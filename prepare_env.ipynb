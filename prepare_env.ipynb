{
  "nbformat": 4,
  "nbformat_minor": 0,
  "metadata": {
    "colab": {
      "name": "prepare_env.ipynb",
      "version": "0.3.2",
      "provenance": [],
      "collapsed_sections": []
    },
    "kernelspec": {
      "name": "python3",
      "display_name": "Python 3"
    },
    "accelerator": "GPU"
  },
  "cells": [
    {
      "metadata": {
        "id": "OfX7dCsFsBWy",
        "colab_type": "code",
        "colab": {
          "base_uri": "https://localhost:8080/",
          "height": 51
        },
        "outputId": "1f53ccff-d366-42f6-92b5-73e784b767a8"
      },
      "cell_type": "code",
      "source": [
        "!rm .env\n",
        "!echo \"GCP_PROJECT_ID=kaggle-195702\" >> .env\n",
        "!echo \"GCP_BUCKET=kaggle-195720-avito-demand-prediction\" >> .env\n",
        "!cat .env"
      ],
      "execution_count": 1,
      "outputs": [
        {
          "output_type": "stream",
          "text": [
            "GCP_PROJECT_ID=kaggle-195702\r\n",
            "GCP_BUCKET=kaggle-195720-avito-demand-prediction\r\n"
          ],
          "name": "stdout"
        }
      ]
    },
    {
      "metadata": {
        "id": "RvC2NsEvQbkv",
        "colab_type": "code",
        "colab": {
          "base_uri": "https://localhost:8080/",
          "height": 37
        },
        "outputId": "12118874-d63f-45fd-ba15-5bdd9d8f9d9f"
      },
      "cell_type": "code",
      "source": [
        "!pip -qq install python-dotenv kaggle pyarrow catboost xgboost ipywidgets matplotlib_venn tqdm lightgbm"
      ],
      "execution_count": 2,
      "outputs": []
    },
    {
      "metadata": {
        "id": "AU1E2UxttNEv",
        "colab_type": "code",
        "colab": {
          "base_uri": "https://localhost:8080/",
          "height": 37
        },
        "outputId": "6878355a-ce3d-49c2-be10-18a280bae5e7"
      },
      "cell_type": "code",
      "source": [
        "# !apt-get update\n",
        "# !apt-get install nvidia-384\n",
        "# !apt-get install nvidia-opencl-icd-384 nvidia-opencl-dev opencl-headers\n",
        "# !apt-get install git cmake build-essential libboost-dev libboost-system-dev libboost-filesystem-dev\n",
        "# !pip install lightgbm --install-option=--gpu --install-option=\"--opencl-include-dir=/usr/include/CL\" --install-option=\"--opencl-library=/usr/lib/x86_64-linux-gnu/libOpenCL.so\""
      ],
      "execution_count": 3,
      "outputs": []
    },
    {
      "metadata": {
        "id": "MDgMOXghsxxS",
        "colab_type": "code",
        "colab": {
          "base_uri": "https://localhost:8080/",
          "height": 34
        },
        "outputId": "c76dc89a-df51-4519-e50b-0d0df5d730b7"
      },
      "cell_type": "code",
      "source": [
        "import dotenv\n",
        "import os\n",
        "\n",
        "dotenv.load_dotenv('.env')"
      ],
      "execution_count": 4,
      "outputs": [
        {
          "output_type": "execute_result",
          "data": {
            "text/plain": [
              "True"
            ]
          },
          "metadata": {
            "tags": []
          },
          "execution_count": 4
        }
      ]
    },
    {
      "metadata": {
        "id": "GtNp41K2dla0",
        "colab_type": "code",
        "colab": {
          "base_uri": "https://localhost:8080/",
          "height": 85
        },
        "outputId": "b46cd9eb-cc8a-4ba9-d5ce-180e6b8a08d1"
      },
      "cell_type": "code",
      "source": [
        "from google.colab import auth\n",
        "auth.authenticate_user()\n",
        "\n",
        "!gcloud config set project {os.environ['GCP_PROJECT_ID']}\n",
        "!gsutil cp gs://{os.environ['GCP_BUCKET']}/kaggle.json /content/.kaggle/kaggle.json\n",
        "!chmod 600 /content/.kaggle/kaggle.json"
      ],
      "execution_count": 5,
      "outputs": [
        {
          "output_type": "stream",
          "text": [
            "Updated property [core/project].\n",
            "Copying gs://kaggle-195720-avito-demand-prediction/kaggle.json...\n",
            "/ [1 files][  109.0 B/  109.0 B]                                                \n",
            "Operation completed over 1 objects/109.0 B.                                      \n"
          ],
          "name": "stdout"
        }
      ]
    },
    {
      "metadata": {
        "id": "scE7xm8FQeIM",
        "colab_type": "code",
        "colab": {
          "base_uri": "https://localhost:8080/",
          "height": 68
        },
        "outputId": "066eda9d-2b96-471c-80d8-4fd78cb79202"
      },
      "cell_type": "code",
      "source": [
        "!gsutil cp gs://{os.environ['GCP_BUCKET']}/russian_fasttext.bin.gz ./model/russian_fasttext.bin.gz\n",
        "!gunzip ./model/russian_fasttext.bin.gz\n",
        "\n",
        "!git clone https://github.com/facebookresearch/fastText.git\n",
        "!cd fastText && pip -qq install .\n",
        "!rm -rf fastText"
      ],
      "execution_count": 6,
      "outputs": [
        {
          "output_type": "stream",
          "text": [
            "Copying gs://kaggle-195720-avito-demand-prediction/russian_fasttext.bin.gz...\n",
            "/ [1 files][  4.2 GiB/  4.2 GiB]   69.9 MiB/s                                   \n",
            "Operation completed over 1 objects/4.2 GiB.                                      \n"
          ],
          "name": "stdout"
        }
      ]
    }
  ]
}