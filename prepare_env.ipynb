{
  "nbformat": 4,
  "nbformat_minor": 0,
  "metadata": {
    "colab": {
      "name": "prepare_env.ipynb",
      "version": "0.3.2",
      "provenance": [],
      "collapsed_sections": []
    },
    "kernelspec": {
      "name": "python3",
      "display_name": "Python 3"
    },
    "accelerator": "GPU"
  },
  "cells": [
    {
      "cell_type": "markdown",
      "metadata": {
        "id": "view-in-github",
        "colab_type": "text"
      },
      "source": [
        "[View in Colaboratory](https://colab.research.google.com/github/Hoiy/kaggle-avito-demand-prediction/blob/master/prepare_env.ipynb)"
      ]
    },
    {
      "metadata": {
        "id": "OfX7dCsFsBWy",
        "colab_type": "code",
        "colab": {
          "base_uri": "https://localhost:8080/",
          "height": 51
        },
        "outputId": "71d1b2f1-9cea-4b1a-9d21-35d0013c7410"
      },
      "cell_type": "code",
      "source": [
        "!rm .env\n",
        "!echo \"GCP_PROJECT_ID=kaggle-195702\" >> .env\n",
        "!echo \"GCP_BUCKET=kaggle-195720-avito-demand-prediction\" >> .env\n",
        "!cat .env"
      ],
      "execution_count": 5,
      "outputs": [
        {
          "output_type": "stream",
          "text": [
            "GCP_PROJECT_ID=kaggle-195702\r\n",
            "GCP_BUCKET=kaggle-195720-avito-demand-prediction\r\n"
          ],
          "name": "stdout"
        }
      ]
    },
    {
      "metadata": {
        "id": "RvC2NsEvQbkv",
        "colab_type": "code",
        "colab": {}
      },
      "cell_type": "code",
      "source": [
        "!pip -qq install python-dotenv kaggle==1.3.8 pyarrow catboost xgboost ipywidgets matplotlib_venn tqdm lightgbm"
      ],
      "execution_count": 0,
      "outputs": []
    },
    {
      "metadata": {
        "id": "AU1E2UxttNEv",
        "colab_type": "code",
        "colab": {}
      },
      "cell_type": "code",
      "source": [
        "# !apt-get update\n",
        "# !apt-get install nvidia-384\n",
        "# !apt-get install nvidia-opencl-icd-384 nvidia-opencl-dev opencl-headers\n",
        "# !apt-get install git cmake build-essential libboost-dev libboost-system-dev libboost-filesystem-dev\n",
        "# !pip install lightgbm --install-option=--gpu --install-option=\"--opencl-include-dir=/usr/include/CL\" --install-option=\"--opencl-library=/usr/lib/x86_64-linux-gnu/libOpenCL.so\""
      ],
      "execution_count": 0,
      "outputs": []
    },
    {
      "metadata": {
        "id": "voGCJ691LN91",
        "colab_type": "code",
        "colab": {
          "base_uri": "https://localhost:8080/",
          "height": 34
        },
        "outputId": "f2af246a-0e45-40bb-d8f0-d50e95114964"
      },
      "cell_type": "code",
      "source": [
        "!git clone https://github.com/facebookresearch/fastText.git\n",
        "!cd fastText && pip -qq install ."
      ],
      "execution_count": 20,
      "outputs": [
        {
          "output_type": "stream",
          "text": [
            "fatal: destination path 'fastText' already exists and is not an empty directory.\r\n"
          ],
          "name": "stdout"
        }
      ]
    },
    {
      "metadata": {
        "id": "1lfGkRrHMEil",
        "colab_type": "code",
        "colab": {
          "base_uri": "https://localhost:8080/",
          "height": 224
        },
        "outputId": "7ef1033b-55bf-4245-a303-010194ac1851"
      },
      "cell_type": "code",
      "source": [
        "!gsutil cp gs://{os.environ['GCP_BUCKET']}/russian_fasttext.bin.gz ./data/russian_fasttext.bin.gz\n",
        "!gunzip ./data/russian_fasttext.bin.gz"
      ],
      "execution_count": 12,
      "outputs": [
        {
          "output_type": "stream",
          "text": [
            "--2018-06-16 10:41:25--  https://s3-us-west-1.amazonaws.com/fasttext-vectors/word-vectors-v2/cc.ru.300.bin.gz\r\n",
            "Resolving s3-us-west-1.amazonaws.com (s3-us-west-1.amazonaws.com)... 54.231.235.45\r\n",
            "Connecting to s3-us-west-1.amazonaws.com (s3-us-west-1.amazonaws.com)|54.231.235.45|:443... connected.\n",
            "HTTP request sent, awaiting response... 200 OK\n",
            "Length: 4496459151 (4.2G) [application/octet-stream]\n",
            "Saving to: ‘cc.ru.300.bin.gz’\n",
            "\n",
            "cc.ru.300.bin.gz     63%[===========>        ]   2.67G  65.0MB/s    eta 25s    "
          ],
          "name": "stdout"
        },
        {
          "output_type": "stream",
          "text": [
            "cc.ru.300.bin.gz    100%[===================>]   4.19G  56.2MB/s    in 68s     \n",
            "\n",
            "2018-06-16 10:42:34 (62.9 MB/s) - ‘cc.ru.300.bin.gz’ saved [4496459151/4496459151]\n",
            "\n"
          ],
          "name": "stdout"
        }
      ]
    },
    {
      "metadata": {
        "id": "MDgMOXghsxxS",
        "colab_type": "code",
        "colab": {
          "base_uri": "https://localhost:8080/",
          "height": 34
        },
        "outputId": "fe36c228-4e30-4ed5-86b6-1e04555e7579"
      },
      "cell_type": "code",
      "source": [
        "import dotenv\n",
        "import os\n",
        "\n",
        "dotenv.load_dotenv('.env')"
      ],
      "execution_count": 14,
      "outputs": [
        {
          "output_type": "execute_result",
          "data": {
            "text/plain": [
              "True"
            ]
          },
          "metadata": {
            "tags": []
          },
          "execution_count": 14
        }
      ]
    },
    {
      "metadata": {
        "id": "GtNp41K2dla0",
        "colab_type": "code",
        "colab": {
          "base_uri": "https://localhost:8080/",
          "height": 85
        },
        "outputId": "c2731793-4d22-4910-de88-65defbd5dee2"
      },
      "cell_type": "code",
      "source": [
        "from google.colab import auth\n",
        "auth.authenticate_user()\n",
        "\n",
        "!gcloud config set project {os.environ['GCP_PROJECT_ID']}\n",
        "!gsutil cp gs://{os.environ['GCP_BUCKET']}/kaggle.json /content/.kaggle/kaggle.json\n",
        "!chmod 600 /content/.kaggle/kaggle.json"
      ],
      "execution_count": 15,
      "outputs": [
        {
          "output_type": "stream",
          "text": [
            "Updated property [core/project].\n",
            "Copying gs://kaggle-195720-avito-demand-prediction/kaggle.json...\n",
            "/ [1 files][  109.0 B/  109.0 B]                                                \n",
            "Operation completed over 1 objects/109.0 B.                                      \n"
          ],
          "name": "stdout"
        }
      ]
    },
    {
      "metadata": {
        "id": "scE7xm8FQeIM",
        "colab_type": "code",
        "colab": {}
      },
      "cell_type": "code",
      "source": [
        ""
      ],
      "execution_count": 0,
      "outputs": []
    }
  ]
}