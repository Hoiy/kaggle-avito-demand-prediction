{
  "nbformat": 4,
  "nbformat_minor": 0,
  "metadata": {
    "colab": {
      "name": "prep_lsa.ipynb",
      "version": "0.3.2",
      "provenance": [],
      "collapsed_sections": []
    },
    "kernelspec": {
      "name": "python3",
      "display_name": "Python 3"
    },
    "accelerator": "GPU"
  },
  "cells": [
    {
      "metadata": {
        "id": "33OYP9w8YPIA",
        "colab_type": "code",
        "colab": {
          "base_uri": "https://localhost:8080/",
          "height": 37
        },
        "outputId": "47db3e5a-b0d6-44a3-c6b3-0530f9c33d25"
      },
      "cell_type": "code",
      "source": [
        "import pandas as pd\n",
        "import numpy as np\n",
        "import os\n",
        "import dotenv\n",
        "import gc\n",
        "from sklearn.feature_extraction.text import TfidfVectorizer\n",
        "from sklearn.decomposition import TruncatedSVD\n",
        "from sklearn.pipeline import Pipeline\n",
        "from sklearn.feature_extraction import stop_words\n",
        "from scipy import sparse\n",
        "\n",
        "dotenv.load_dotenv('.env')\n",
        "types = ['train', 'test']\n",
        "cols = ['title', 'description']\n",
        "LSA_SIZE = 32"
      ],
      "execution_count": 37,
      "outputs": []
    },
    {
      "metadata": {
        "id": "Jxo7aUcBZS1m",
        "colab_type": "code",
        "colab": {
          "base_uri": "https://localhost:8080/",
          "height": 119
        },
        "outputId": "a7ab26d1-9c53-4212-e0e4-4001c969fbd3"
      },
      "cell_type": "code",
      "source": [
        "for key in types:\n",
        "  path = './data/%s_prep.snappy.parquet'%key\n",
        "  !gsutil cp gs://{os.environ['GCP_BUCKET']}/{key}_prep.snappy.parquet {path}"
      ],
      "execution_count": 2,
      "outputs": [
        {
          "output_type": "stream",
          "text": [
            "Copying gs://kaggle-195720-avito-demand-prediction/train_prep.snappy.parquet...\n",
            "/ [1 files][465.7 MiB/465.7 MiB]                                                \n",
            "Operation completed over 1 objects/465.7 MiB.                                    \n",
            "Copying gs://kaggle-195720-avito-demand-prediction/test_prep.snappy.parquet...\n",
            "\\ [1 files][163.8 MiB/163.8 MiB]                                                \n",
            "Operation completed over 1 objects/163.8 MiB.                                    \n"
          ],
          "name": "stdout"
        }
      ]
    },
    {
      "metadata": {
        "id": "xcDz6WOXuuaC",
        "colab_type": "code",
        "colab": {
          "base_uri": "https://localhost:8080/",
          "height": 34
        },
        "outputId": "cecfbae3-4e3b-4837-e9ae-b73e2d8d0d30"
      },
      "cell_type": "code",
      "source": [
        "lsa = Pipeline([('tfidf', TfidfVectorizer(max_features=20000, ngram_range=(1,2))), ('compress', TruncatedSVD(n_components=LSA_SIZE))])\n",
        "train = pd.read_parquet('./data/train_prep.snappy.parquet', columns=['description']).fillna('N/A')\n",
        "lsa.fit(train.description)\n",
        "del train\n",
        "gc.collect()"
      ],
      "execution_count": 3,
      "outputs": [
        {
          "output_type": "execute_result",
          "data": {
            "text/plain": [
              "7"
            ]
          },
          "metadata": {
            "tags": []
          },
          "execution_count": 3
        }
      ]
    },
    {
      "metadata": {
        "id": "iyozgTH_wxQr",
        "colab_type": "code",
        "colab": {
          "base_uri": "https://localhost:8080/",
          "height": 629
        },
        "outputId": "936cec31-7a88-452d-f8bb-a2c78f8146e0"
      },
      "cell_type": "code",
      "source": [
        "for col in cols:\n",
        "  for t in types:\n",
        "    df = pd.read_parquet('./data/%s_prep.snappy.parquet'%t, columns=[col]).fillna('N/A')\n",
        "    df = pd.DataFrame(lsa.transform(df[col]), columns=['%s_lsa_%d'%(col,i) for i in range(LSA_SIZE)])\n",
        "    df.to_parquet('./data/%s_%s_lsa.snappy.parquet'%(t,col))\n",
        "    !gsutil cp ./data/{t}_{col}_lsa.snappy.parquet gs://{os.environ['GCP_BUCKET']}/{t}_{col}_lsa.snappy.parquet\n",
        "    del df\n",
        "    gc.collect()"
      ],
      "execution_count": 4,
      "outputs": [
        {
          "output_type": "stream",
          "text": [
            "Copying file://./data/train_title_lsa.snappy.parquet [Content-Type=application/octet-stream]...\r\n",
            "/ [0 files][    0.0 B/286.1 MiB]                                                \r==> NOTE: You are uploading one or more large file(s), which would run\r\n",
            "significantly faster if you enable parallel composite uploads. This\r\n",
            "feature can be enabled by editing the\r\n",
            "\"parallel_composite_upload_threshold\" value in your .boto\r\n",
            "configuration file. However, note that if you do this large files will\r\n",
            "be uploaded as `composite objects\r\n",
            "<https://cloud.google.com/storage/docs/composite-objects>`_,which\r\n",
            "means that any user who downloads such objects will need to have a\r\n",
            "compiled crcmod installed (see \"gsutil help crcmod\"). This is because\r\n",
            "without a compiled crcmod, computing checksums on composite objects is\r\n",
            "so slow that gsutil disables downloads of composite objects.\r\n",
            "\n",
            "|\n",
            "Operation completed over 1 objects/286.1 MiB.                                    \n",
            "Copying file://./data/test_title_lsa.snappy.parquet [Content-Type=application/octet-stream]...\n",
            "\\\n",
            "Operation completed over 1 objects/83.7 MiB.                                     \n",
            "Copying file://./data/train_description_lsa.snappy.parquet [Content-Type=application/octet-stream]...\n",
            "==> NOTE: You are uploading one or more large file(s), which would run\n",
            "significantly faster if you enable parallel composite uploads. This\n",
            "feature can be enabled by editing the\n",
            "\"parallel_composite_upload_threshold\" value in your .boto\n",
            "configuration file. However, note that if you do this large files will\n",
            "be uploaded as `composite objects\n",
            "<https://cloud.google.com/storage/docs/composite-objects>`_,which\n",
            "means that any user who downloads such objects will need to have a\n",
            "compiled crcmod installed (see \"gsutil help crcmod\"). This is because\n",
            "without a compiled crcmod, computing checksums on composite objects is\n",
            "so slow that gsutil disables downloads of composite objects.\n",
            "\n",
            "/\n",
            "Operation completed over 1 objects/358.5 MiB.                                    \n",
            "Copying file://./data/test_description_lsa.snappy.parquet [Content-Type=application/octet-stream]...\n",
            "|\n",
            "Operation completed over 1 objects/133.4 MiB.                                    \n"
          ],
          "name": "stdout"
        }
      ]
    },
    {
      "metadata": {
        "id": "HSZlVfmBM5mv",
        "colab_type": "code",
        "colab": {
          "base_uri": "https://localhost:8080/",
          "height": 34
        },
        "outputId": "6c160583-2e6d-47ef-9268-b2e295f00c4a"
      },
      "cell_type": "code",
      "source": [
        "# TODO: build tfidf vectorizer with supp data, pick min_df, max_df by examining distribution\n",
        "vectorizer = TfidfVectorizer(max_features=20000, ngram_range=(1,2), min_df=300, max_df=0.95)\n",
        "train = pd.read_parquet('./data/train_prep.snappy.parquet', columns=['description']).fillna('N/A')\n",
        "vectorizer.fit(train.description)\n",
        "\n",
        "print(len(vectorizer.get_feature_names()))\n",
        "del train\n",
        "gc.collect()"
      ],
      "execution_count": 31,
      "outputs": [
        {
          "output_type": "execute_result",
          "data": {
            "text/plain": [
              "7"
            ]
          },
          "metadata": {
            "tags": []
          },
          "execution_count": 31
        }
      ]
    },
    {
      "metadata": {
        "id": "LICcOV0zkasb",
        "colab_type": "code",
        "colab": {
          "base_uri": "https://localhost:8080/",
          "height": 425
        },
        "outputId": "1c33ed3d-d256-4d0d-da3a-9e9d6c2c31dc"
      },
      "cell_type": "code",
      "source": [
        "for col in cols:\n",
        "  for t in types:\n",
        "    df = pd.read_parquet('./data/%s_prep.snappy.parquet'%t, columns=[col]).fillna('N/A')\n",
        "    path = 'data/%s_%s_tfidf.npz'%(t,col)\n",
        "    sparse.save_npz(path, vectorizer.transform(df[col]))\n",
        "    !gsutil cp {path} gs://{os.environ['GCP_BUCKET']}/{path}\n",
        "    del df\n",
        "    gc.collect()"
      ],
      "execution_count": 38,
      "outputs": [
        {
          "output_type": "stream",
          "text": [
            "Copying file://data/train_title_tfidf.npz [Content-Type=application/octet-stream]...\n",
            "-\n",
            "Operation completed over 1 objects/33.8 MiB.                                     \n",
            "Copying file://data/test_title_tfidf.npz [Content-Type=application/octet-stream]...\n",
            "-\n",
            "Operation completed over 1 objects/11.3 MiB.                                     \n",
            "Copying file://data/train_description_tfidf.npz [Content-Type=application/octet-stream]...\n",
            "==> NOTE: You are uploading one or more large file(s), which would run\n",
            "significantly faster if you enable parallel composite uploads. This\n",
            "feature can be enabled by editing the\n",
            "\"parallel_composite_upload_threshold\" value in your .boto\n",
            "configuration file. However, note that if you do this large files will\n",
            "be uploaded as `composite objects\n",
            "<https://cloud.google.com/storage/docs/composite-objects>`_,which\n",
            "means that any user who downloads such objects will need to have a\n",
            "compiled crcmod installed (see \"gsutil help crcmod\"). This is because\n",
            "without a compiled crcmod, computing checksums on composite objects is\n",
            "so slow that gsutil disables downloads of composite objects.\n",
            "\n",
            "\\\n",
            "Operation completed over 1 objects/295.2 MiB.                                    \n",
            "Copying file://data/test_description_tfidf.npz [Content-Type=application/octet-stream]...\n",
            "\n",
            "Operation completed over 1 objects/107.0 MiB.                                    \n"
          ],
          "name": "stdout"
        }
      ]
    },
    {
      "metadata": {
        "id": "p7uoKWoRu9OT",
        "colab_type": "code",
        "colab": {
          "base_uri": "https://localhost:8080/",
          "height": 17
        },
        "outputId": "0ff5decd-024e-4320-8084-377a4dd3e151"
      },
      "cell_type": "code",
      "source": [
        "import pickle\n",
        "pickle.dump(vectorizer.get_feature_names(), open('./data/tfidf_feature_names.pl', 'wb'))"
      ],
      "execution_count": 40,
      "outputs": []
    },
    {
      "metadata": {
        "id": "hCVSccTw2AeI",
        "colab_type": "code",
        "colab": {
          "base_uri": "https://localhost:8080/",
          "height": 255
        },
        "outputId": "560a00b2-db15-42f1-cf5c-8f53f331b80c"
      },
      "cell_type": "code",
      "source": [
        "!ls -laht data"
      ],
      "execution_count": 41,
      "outputs": [
        {
          "output_type": "stream",
          "text": [
            "total 1.9G\r\n",
            "-rw-r--r-- 1 root root 530K Jun 23 04:12 tfidf_feature_names.pl\r\n",
            "drwxr-xr-x 2 root root 4.0K Jun 23 04:12 .\r\n",
            "-rw-r--r-- 1 root root 107M Jun 23 03:47 test_description_tfidf.npz\r\n",
            "-rw-r--r-- 1 root root 296M Jun 23 03:46 train_description_tfidf.npz\r\n",
            "-rw-r--r-- 1 root root  12M Jun 23 03:44 test_title_tfidf.npz\r\n",
            "-rw-r--r-- 1 root root  34M Jun 23 03:44 train_title_tfidf.npz\r\n",
            "-rw-r--r-- 1 root root 134M Jun 23 02:54 test_description_lsa.snappy.parquet\r\n",
            "-rw-r--r-- 1 root root 359M Jun 23 02:53 train_description_lsa.snappy.parquet\r\n",
            "-rw-r--r-- 1 root root  84M Jun 23 02:52 test_title_lsa.snappy.parquet\r\n",
            "-rw-r--r-- 1 root root 287M Jun 23 02:51 train_title_lsa.snappy.parquet\r\n",
            "-rw-r--r-- 1 root root 164M Jun 23 02:47 test_prep.snappy.parquet\r\n",
            "-rw-r--r-- 1 root root 466M Jun 23 02:47 train_prep.snappy.parquet\r\n",
            "drwxr-xr-x 1 root root 4.0K Jun 23 02:47 ..\r\n"
          ],
          "name": "stdout"
        }
      ]
    },
    {
      "metadata": {
        "id": "7gM-XT3j1pEd",
        "colab_type": "code",
        "colab": {
          "base_uri": "https://localhost:8080/",
          "height": 646
        },
        "outputId": "b9ad4cab-b373-48e8-bb9a-2d19b2331a29"
      },
      "cell_type": "code",
      "source": [
        "!gsutil rsync data gs://{os.environ['GCP_BUCKET']}/data"
      ],
      "execution_count": 42,
      "outputs": [
        {
          "output_type": "stream",
          "text": [
            "Building synchronization state...\n",
            "Starting synchronization...\n",
            "Copying file://data/test_description_lsa.snappy.parquet [Content-Type=application/octet-stream]...\n",
            "Computing MD5 for file://data/test_description_tfidf.npz...\n",
            "Copying mtime from src to dst for gs://kaggle-195720-avito-demand-prediction/data/test_description_tfidf.npz\n",
            "Copying file://data/test_prep.snappy.parquet [Content-Type=application/octet-stream]...\n",
            "==> NOTE: You are uploading one or more large file(s), which would run\n",
            "significantly faster if you enable parallel composite uploads. This\n",
            "feature can be enabled by editing the\n",
            "\"parallel_composite_upload_threshold\" value in your .boto\n",
            "configuration file. However, note that if you do this large files will\n",
            "be uploaded as `composite objects\n",
            "<https://cloud.google.com/storage/docs/composite-objects>`_,which\n",
            "means that any user who downloads such objects will need to have a\n",
            "compiled crcmod installed (see \"gsutil help crcmod\"). This is because\n",
            "without a compiled crcmod, computing checksums on composite objects is\n",
            "so slow that gsutil disables downloads of composite objects.\n",
            "\n",
            "Copying file://data/test_title_lsa.snappy.parquet [Content-Type=application/octet-stream]...\n",
            "Computing MD5 for file://data/test_title_tfidf.npz...\n",
            "\n",
            "==> NOTE: You are performing a sequence of gsutil operations that may\n",
            "run significantly faster if you instead use gsutil -m -o ... Please\n",
            "see the -m section under \"gsutil help options\" for further information\n",
            "about when gsutil -m can be advantageous.\n",
            "\n",
            "Copying mtime from src to dst for gs://kaggle-195720-avito-demand-prediction/data/test_title_tfidf.npz\n",
            "Copying file://data/tfidf_feature_names.pl [Content-Type=text/x-perl]...\n",
            "Copying file://data/train_description_lsa.snappy.parquet [Content-Type=application/octet-stream]...\n",
            "Computing MD5 for file://data/train_description_tfidf.npz...\n",
            "Copying mtime from src to dst for gs://kaggle-195720-avito-demand-prediction/data/train_description_tfidf.npz\n",
            "Copying file://data/train_prep.snappy.parquet [Content-Type=application/octet-stream]...\n",
            "Copying file://data/train_title_lsa.snappy.parquet [Content-Type=application/octet-stream]...\n",
            "Computing MD5 for file://data/train_title_tfidf.npz...\n",
            "Copying mtime from src to dst for gs://kaggle-195720-avito-demand-prediction/data/train_title_tfidf.npz\n",
            "|\n",
            "Operation completed over 7 objects/1.5 GiB.                                      \n"
          ],
          "name": "stdout"
        }
      ]
    },
    {
      "metadata": {
        "id": "0nNWi_Qa2Fgu",
        "colab_type": "code",
        "colab": {}
      },
      "cell_type": "code",
      "source": [
        ""
      ],
      "execution_count": 0,
      "outputs": []
    }
  ]
}