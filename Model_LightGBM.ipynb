{
  "nbformat": 4,
  "nbformat_minor": 0,
  "metadata": {
    "colab": {
      "name": "Model - LightGBM.ipynb",
      "version": "0.3.2",
      "provenance": [],
      "collapsed_sections": [],
      "include_colab_link": true
    },
    "kernelspec": {
      "name": "python3",
      "display_name": "Python 3"
    },
    "accelerator": "GPU"
  },
  "cells": [
    {
      "cell_type": "markdown",
      "metadata": {
        "id": "view-in-github",
        "colab_type": "text"
      },
      "source": [
        "[View in Colaboratory](https://colab.research.google.com/github/Hoiy/kaggle-avito-demand-prediction/blob/master/Model_LightGBM.ipynb)"
      ]
    },
    {
      "metadata": {
        "id": "Vfabwzu_xQQk",
        "colab_type": "code",
        "colab": {
          "base_uri": "https://localhost:8080/",
          "height": 34
        },
        "outputId": "5c9411ec-4b79-4e71-9265-369fa27730ad"
      },
      "cell_type": "code",
      "source": [
        "import pandas as pd\n",
        "import numpy as np\n",
        "import dotenv\n",
        "import os\n",
        "from scipy import sparse\n",
        "import pickle\n",
        "import gc\n",
        "import lightgbm as lgb\n",
        "\n",
        "dotenv.load_dotenv('.env')"
      ],
      "execution_count": 14,
      "outputs": [
        {
          "output_type": "execute_result",
          "data": {
            "text/plain": [
              "True"
            ]
          },
          "metadata": {
            "tags": []
          },
          "execution_count": 14
        }
      ]
    },
    {
      "metadata": {
        "id": "62RQrn89xogg",
        "colab_type": "code",
        "colab": {
          "base_uri": "https://localhost:8080/",
          "height": 85
        },
        "outputId": "58d57855-7563-4775-937f-266b9c700ec4"
      },
      "cell_type": "code",
      "source": [
        "!gsutil rsync gs://{os.environ['GCP_BUCKET']}/data data\n",
        "!kaggle competitions download -f sample_submission.csv --path ./data"
      ],
      "execution_count": 15,
      "outputs": [
        {
          "output_type": "stream",
          "text": [
            "Building synchronization state...\n",
            "Starting synchronization...\n",
            "Using competition: avito-demand-prediction\n",
            "sample_submission.csv: Skipping, found more recently modified local copy (use --force to force download)\n"
          ],
          "name": "stdout"
        }
      ]
    },
    {
      "metadata": {
        "id": "FY5p9vjFi8iO",
        "colab_type": "code",
        "colab": {}
      },
      "cell_type": "code",
      "source": [
        "cat_cols = [\n",
        "    'image_top_1', \n",
        "    'region_code', \n",
        "    'city_code', \n",
        "    'parent_category_name_code', \n",
        "    'category_name_code', \n",
        "    'user_type_code', \n",
        "    'param_1_code', \n",
        "    'param_2_code', \n",
        "    'param_3_code',\n",
        "    'user_id_code',\n",
        "    'item_seq_number_code',\n",
        "    'activation_date_weekday_code',\n",
        "    'activation_date_month_code',\n",
        "    'activation_date_day_code',\n",
        "    'title_length',\n",
        "    'title_space_count',\n",
        "    'description_length',\n",
        "    'description_space_count',\n",
        "]\n",
        "# cont_cols = ['price_std'] + ['title_ft_%d'%i for i in range(32)][:]\n",
        "cont_cols = ['price_std']\n",
        "\n",
        "\n",
        "def load_data(t):\n",
        "  df = pd.read_parquet('./data/%s_prep.snappy.parquet'%t, columns=cat_cols+cont_cols)\n",
        "#   labels = pd.read_parquet('./data/%s_prep.snappy.parquet'%t, columns=['deal_probability'])['deal_probability']\n",
        "  \n",
        "#   prep = sparse.csr_matrix(df.values)\n",
        "#   title_tfidf = sparse.load_npz('./data/%s_title_tfidf.npz'%t)\n",
        "#   description_tfidf = sparse.load_npz('./data/%s_description_tfidf.npz'%t)\n",
        "\n",
        "#   tfidf_features = pickle.load(open('./data/tfidf_feature_names.pl', 'rb'))\n",
        "\n",
        "#   feature_names = df.columns.tolist() + ['title_%s'%f for f in tfidf_features] + ['description_%s'%f for f in tfidf_features]\n",
        "  feature_names = df.columns.tolist()\n",
        "#   features = sparse.hstack([prep, title_tfidf, description_tfidf])\n",
        "#   features = sparse.hstack([prep])\n",
        "  \n",
        "#   del tfidf_features\n",
        "#   del description_tfidf\n",
        "#   del title_tfidf\n",
        "#   del df\n",
        "#   gc.collect()\n",
        "  \n",
        "#   return lgb.Dataset(features, labels, feature_name=feature_names, categorical_feature=cat_cols, free_raw_data=False)\n",
        "  return df, feature_names"
      ],
      "execution_count": 0,
      "outputs": []
    },
    {
      "metadata": {
        "id": "k2i0CprD5k9S",
        "colab_type": "code",
        "colab": {}
      },
      "cell_type": "code",
      "source": [
        "X, X_names = load_data('train')\n",
        "y = pd.read_parquet('./data/train_prep.snappy.parquet', columns=['deal_probability'])['deal_probability']"
      ],
      "execution_count": 0,
      "outputs": []
    },
    {
      "metadata": {
        "id": "RH9YrSKs2ae0",
        "colab_type": "code",
        "colab": {}
      },
      "cell_type": "code",
      "source": [
        "#TODO: how to setup gpu lightgbm in colab\n",
        "params = {\n",
        "    'task': 'train',\n",
        "    'boosting_type': 'gbdt',\n",
        "    'objective': 'rmse',\n",
        "    'metric': {'rmse'},\n",
        "#     'num_leaves': 250,\n",
        "#     'feature_fraction': 0.50,\n",
        "#     'bagging_fraction': 0.70,\n",
        "#     'device': 'gpu',\n",
        "    'verbose': 1\n",
        "}\n",
        "\n",
        "lgb_params = {\n",
        "    'verbose_eval': 10,\n",
        "    'categorical_feature': cat_cols,\n",
        "    'early_stopping_rounds':10\n",
        "}"
      ],
      "execution_count": 0,
      "outputs": []
    },
    {
      "metadata": {
        "id": "vO3uXglbEgVX",
        "colab_type": "code",
        "colab": {
          "base_uri": "https://localhost:8080/",
          "height": 683
        },
        "outputId": "a4e4a4c5-821f-4358-c1d4-96b0aea9675f"
      },
      "cell_type": "code",
      "source": [
        "K_FOLD=10\n",
        "\n",
        "results = lgb.cv(\n",
        "    params,\n",
        "    lgb.Dataset(X, y),\n",
        "    stratified=False,\n",
        "    nfold=K_FOLD,\n",
        "    seed=42,\n",
        "    num_boost_round=10000,\n",
        "    **lgb_params\n",
        ")"
      ],
      "execution_count": 58,
      "outputs": [
        {
          "output_type": "stream",
          "text": [
            "/usr/local/lib/python3.6/dist-packages/lightgbm/basic.py:1042: UserWarning: categorical_feature in Dataset is overridden. New categorical_feature is ['activation_date_day_code', 'activation_date_month_code', 'activation_date_weekday_code', 'category_name_code', 'city_code', 'description_length', 'description_space_count', 'image_top_1', 'item_seq_number_code', 'param_1_code', 'param_2_code', 'param_3_code', 'parent_category_name_code', 'region_code', 'title_length', 'title_space_count', 'user_id_code', 'user_type_code']\n",
            "  warnings.warn('categorical_feature in Dataset is overridden. New categorical_feature is {}'.format(sorted(list(categorical_feature))))\n"
          ],
          "name": "stderr"
        },
        {
          "output_type": "stream",
          "text": [
            "[10]\tcv_agg's rmse: 0.235801 + 0.000556072\n",
            "[20]\tcv_agg's rmse: 0.230493 + 0.000522923\n",
            "[30]\tcv_agg's rmse: 0.228648 + 0.000510924\n",
            "[40]\tcv_agg's rmse: 0.227675 + 0.000506722\n",
            "[50]\tcv_agg's rmse: 0.22697 + 0.000479663\n",
            "[60]\tcv_agg's rmse: 0.226527 + 0.000496999\n",
            "[70]\tcv_agg's rmse: 0.226231 + 0.000499347\n",
            "[80]\tcv_agg's rmse: 0.226013 + 0.000509882\n",
            "[90]\tcv_agg's rmse: 0.225857 + 0.000515435\n",
            "[100]\tcv_agg's rmse: 0.225724 + 0.000521262\n",
            "[110]\tcv_agg's rmse: 0.225613 + 0.000526917\n",
            "[120]\tcv_agg's rmse: 0.225519 + 0.000529297\n",
            "[130]\tcv_agg's rmse: 0.225439 + 0.000527494\n",
            "[140]\tcv_agg's rmse: 0.225358 + 0.000538075\n",
            "[150]\tcv_agg's rmse: 0.225298 + 0.000543839\n",
            "[160]\tcv_agg's rmse: 0.22525 + 0.000538859\n",
            "[170]\tcv_agg's rmse: 0.225189 + 0.000546411\n",
            "[180]\tcv_agg's rmse: 0.225141 + 0.000537017\n",
            "[190]\tcv_agg's rmse: 0.225106 + 0.000538327\n",
            "[200]\tcv_agg's rmse: 0.225081 + 0.000535654\n",
            "[210]\tcv_agg's rmse: 0.22505 + 0.000540306\n",
            "[220]\tcv_agg's rmse: 0.225012 + 0.000537757\n",
            "[230]\tcv_agg's rmse: 0.224992 + 0.000541502\n",
            "[240]\tcv_agg's rmse: 0.224958 + 0.000540514\n",
            "[250]\tcv_agg's rmse: 0.224939 + 0.000549108\n",
            "[260]\tcv_agg's rmse: 0.224914 + 0.000550105\n",
            "[270]\tcv_agg's rmse: 0.224893 + 0.000544085\n",
            "[280]\tcv_agg's rmse: 0.224873 + 0.000546162\n",
            "[290]\tcv_agg's rmse: 0.224849 + 0.000545097\n",
            "[300]\tcv_agg's rmse: 0.224828 + 0.000549307\n",
            "[310]\tcv_agg's rmse: 0.224812 + 0.000543249\n",
            "[320]\tcv_agg's rmse: 0.224793 + 0.000547442\n",
            "[330]\tcv_agg's rmse: 0.224788 + 0.000546146\n",
            "[340]\tcv_agg's rmse: 0.224779 + 0.000542912\n",
            "[350]\tcv_agg's rmse: 0.224763 + 0.000539495\n",
            "[360]\tcv_agg's rmse: 0.224758 + 0.000539135\n"
          ],
          "name": "stdout"
        }
      ]
    },
    {
      "metadata": {
        "id": "vUxqKM00xfe5",
        "colab_type": "code",
        "colab": {
          "base_uri": "https://localhost:8080/",
          "height": 34
        },
        "outputId": "0d82e608-551e-403f-b224-72bb43a3cef7"
      },
      "cell_type": "code",
      "source": [
        "cv = results['rmse-mean'][-1]\n",
        "rounds = len(results['rmse-mean'])\n",
        "rounds, cv, K_FOLD, 1/K_FOLD"
      ],
      "execution_count": 59,
      "outputs": [
        {
          "output_type": "execute_result",
          "data": {
            "text/plain": [
              "(355, 0.22475719961159193, 10, 0.1)"
            ]
          },
          "metadata": {
            "tags": []
          },
          "execution_count": 59
        }
      ]
    },
    {
      "metadata": {
        "id": "tSxU0a7In9P4",
        "colab_type": "code",
        "colab": {}
      },
      "cell_type": "code",
      "source": [
        "from sklearn.model_selection import train_test_split\n",
        "\n",
        "X_train, X_valid, y_train, y_valid = train_test_split(X, y, test_size=1/K_FOLD, random_state=42)\n",
        "        \n",
        "lgb_train = lgb.Dataset(X_train, y_train, feature_name=X_names)\n",
        "lgb_val = lgb.Dataset(X_valid, y_valid, feature_name=X_names)\n",
        "\n",
        "# del X, y; gc.collect()"
      ],
      "execution_count": 0,
      "outputs": []
    },
    {
      "metadata": {
        "id": "JF2izMBoIUY2",
        "colab_type": "code",
        "colab": {
          "base_uri": "https://localhost:8080/",
          "height": 717
        },
        "outputId": "0bf6776a-de31-421e-f451-6aa2f84c170e"
      },
      "cell_type": "code",
      "source": [
        "model = lgb.train(\n",
        "    params,\n",
        "    lgb_train,\n",
        "    valid_names=['train', 'valid'],\n",
        "    valid_sets=[lgb_train, lgb_val],\n",
        "    num_boost_round=rounds,\n",
        "    **lgb_params\n",
        ")"
      ],
      "execution_count": 63,
      "outputs": [
        {
          "output_type": "stream",
          "text": [
            "/usr/local/lib/python3.6/dist-packages/lightgbm/basic.py:1042: UserWarning: categorical_feature in Dataset is overridden. New categorical_feature is ['activation_date_day_code', 'activation_date_month_code', 'activation_date_weekday_code', 'category_name_code', 'city_code', 'description_length', 'description_space_count', 'image_top_1', 'item_seq_number_code', 'param_1_code', 'param_2_code', 'param_3_code', 'parent_category_name_code', 'region_code', 'title_length', 'title_space_count', 'user_id_code', 'user_type_code']\n",
            "  warnings.warn('categorical_feature in Dataset is overridden. New categorical_feature is {}'.format(sorted(list(categorical_feature))))\n",
            "/usr/local/lib/python3.6/dist-packages/lightgbm/basic.py:685: UserWarning: categorical_feature in param dict is overridden.\n",
            "  warnings.warn('categorical_feature in param dict is overridden.')\n"
          ],
          "name": "stderr"
        },
        {
          "output_type": "stream",
          "text": [
            "Training until validation scores don't improve for 10 rounds.\n",
            "[10]\ttrain's rmse: 0.235466\tvalid's rmse: 0.235884\n",
            "[20]\ttrain's rmse: 0.229718\tvalid's rmse: 0.230379\n",
            "[30]\ttrain's rmse: 0.227519\tvalid's rmse: 0.228655\n",
            "[40]\ttrain's rmse: 0.226057\tvalid's rmse: 0.227708\n",
            "[50]\ttrain's rmse: 0.22491\tvalid's rmse: 0.226982\n",
            "[60]\ttrain's rmse: 0.224062\tvalid's rmse: 0.226535\n",
            "[70]\ttrain's rmse: 0.223351\tvalid's rmse: 0.226243\n",
            "[80]\ttrain's rmse: 0.222757\tvalid's rmse: 0.226027\n",
            "[90]\ttrain's rmse: 0.222242\tvalid's rmse: 0.225864\n",
            "[100]\ttrain's rmse: 0.221735\tvalid's rmse: 0.225752\n",
            "[110]\ttrain's rmse: 0.221255\tvalid's rmse: 0.225627\n",
            "[120]\ttrain's rmse: 0.220873\tvalid's rmse: 0.225533\n",
            "[130]\ttrain's rmse: 0.220468\tvalid's rmse: 0.225463\n",
            "[140]\ttrain's rmse: 0.22005\tvalid's rmse: 0.225387\n",
            "[150]\ttrain's rmse: 0.219688\tvalid's rmse: 0.225356\n",
            "[160]\ttrain's rmse: 0.219322\tvalid's rmse: 0.225295\n",
            "[170]\ttrain's rmse: 0.219007\tvalid's rmse: 0.225279\n",
            "[180]\ttrain's rmse: 0.21871\tvalid's rmse: 0.225234\n",
            "[190]\ttrain's rmse: 0.218406\tvalid's rmse: 0.225217\n",
            "[200]\ttrain's rmse: 0.218102\tvalid's rmse: 0.225172\n",
            "[210]\ttrain's rmse: 0.217851\tvalid's rmse: 0.225144\n",
            "[220]\ttrain's rmse: 0.217482\tvalid's rmse: 0.22508\n",
            "[230]\ttrain's rmse: 0.217205\tvalid's rmse: 0.225063\n",
            "[240]\ttrain's rmse: 0.216859\tvalid's rmse: 0.225017\n",
            "[250]\ttrain's rmse: 0.216538\tvalid's rmse: 0.225005\n",
            "[260]\ttrain's rmse: 0.216286\tvalid's rmse: 0.224973\n",
            "[270]\ttrain's rmse: 0.21601\tvalid's rmse: 0.224966\n",
            "[280]\ttrain's rmse: 0.215679\tvalid's rmse: 0.224914\n",
            "[290]\ttrain's rmse: 0.215423\tvalid's rmse: 0.22491\n",
            "[300]\ttrain's rmse: 0.215197\tvalid's rmse: 0.224908\n",
            "[310]\ttrain's rmse: 0.214895\tvalid's rmse: 0.224874\n",
            "[320]\ttrain's rmse: 0.214642\tvalid's rmse: 0.22487\n",
            "[330]\ttrain's rmse: 0.214408\tvalid's rmse: 0.224865\n",
            "Early stopping, best iteration is:\n",
            "[322]\ttrain's rmse: 0.214602\tvalid's rmse: 0.224864\n"
          ],
          "name": "stdout"
        }
      ]
    },
    {
      "metadata": {
        "id": "fd_vwy8J_wjj",
        "colab_type": "code",
        "colab": {
          "base_uri": "https://localhost:8080/",
          "height": 855
        },
        "outputId": "5aadad29-d6e5-4234-c884-cfdf67afe9f5"
      },
      "cell_type": "code",
      "source": [
        "import matplotlib.pyplot as plt\n",
        "\n",
        "fig, ax = plt.subplots(figsize=(10, 14))\n",
        "lgb.plot_importance(model, max_num_features=50, ax=ax)\n",
        "plt.title(\"Light GBM Feature Importance\")"
      ],
      "execution_count": 45,
      "outputs": [
        {
          "output_type": "execute_result",
          "data": {
            "text/plain": [
              "Text(0.5,1,'Light GBM Feature Importance')"
            ]
          },
          "metadata": {
            "tags": []
          },
          "execution_count": 45
        },
        {
          "output_type": "display_data",
          "data": {
            "image/png": "[encoded data removed]",
            "text/plain": [
              "<matplotlib.figure.Figure at 0x7f7029ace198>"
            ]
          },
          "metadata": {
            "tags": []
          }
        }
      ]
    },
    {
      "metadata": {
        "id": "LFo24ekPpfwi",
        "colab_type": "code",
        "colab": {}
      },
      "cell_type": "code",
      "source": [
        "model.save_model('lightgbm.dat')"
      ],
      "execution_count": 0,
      "outputs": []
    },
    {
      "metadata": {
        "id": "HmmqLPZkRfAJ",
        "colab_type": "code",
        "colab": {
          "base_uri": "https://localhost:8080/",
          "height": 164
        },
        "outputId": "f3288464-934d-4f8f-dd02-ffaf396a4cf7"
      },
      "cell_type": "code",
      "source": [
        "del model, lgb_train, lgb_val; gc.collect()"
      ],
      "execution_count": 17,
      "outputs": [
        {
          "output_type": "error",
          "ename": "NameError",
          "evalue": "ignored",
          "traceback": [
            "\u001b[0;31m---------------------------------------------------------------------------\u001b[0m",
            "\u001b[0;31mNameError\u001b[0m                                 Traceback (most recent call last)",
            "\u001b[0;32m<ipython-input-17-32ac0c28caa4>\u001b[0m in \u001b[0;36m<module>\u001b[0;34m()\u001b[0m\n\u001b[0;32m----> 1\u001b[0;31m \u001b[0;32mdel\u001b[0m \u001b[0mmodel\u001b[0m\u001b[0;34m,\u001b[0m \u001b[0mlgb_train\u001b[0m\u001b[0;34m,\u001b[0m \u001b[0mlgb_val\u001b[0m\u001b[0;34m;\u001b[0m \u001b[0mgc\u001b[0m\u001b[0;34m.\u001b[0m\u001b[0mcollect\u001b[0m\u001b[0;34m(\u001b[0m\u001b[0;34m)\u001b[0m\u001b[0;34m\u001b[0m\u001b[0m\n\u001b[0m",
            "\u001b[0;31mNameError\u001b[0m: name 'lgb_train' is not defined"
          ]
        }
      ]
    },
    {
      "metadata": {
        "id": "C2Nl1Q5ZpXBD",
        "colab_type": "code",
        "colab": {}
      },
      "cell_type": "code",
      "source": [
        "test = pd.read_parquet('./data/test_prep.snappy.parquet').set_index('item_id')\n",
        "X_test, _ = load_data('test')\n",
        "submission = pd.read_csv('./data/sample_submission.csv').set_index('item_id')\n",
        "# model = lgb.Booster(model_file='lightgbm.dat')"
      ],
      "execution_count": 0,
      "outputs": []
    },
    {
      "metadata": {
        "id": "ndG63HKNYtCj",
        "colab_type": "code",
        "colab": {}
      },
      "cell_type": "code",
      "source": [
        "SUBMISSION_FILE='lightgbm.csv'\n",
        "SUBMISSION_MESSAGE='\"LightGBM tfidf\"'\n",
        "\n",
        "# TODO: how to limit LightGBM regression mode to output [0., 1]\n",
        "test['deal_probability'] = model.predict(X_test).clip(0., 1.)\n",
        "submission['deal_probability'] = test['deal_probability'].reindex(submission.index)\n",
        "submission.to_csv(SUBMISSION_FILE)"
      ],
      "execution_count": 0,
      "outputs": []
    },
    {
      "metadata": {
        "id": "vMgx2I7ntqhU",
        "colab_type": "code",
        "colab": {}
      },
      "cell_type": "code",
      "source": [
        "assert len(test.index) == len(submission.index)"
      ],
      "execution_count": 0,
      "outputs": []
    },
    {
      "metadata": {
        "id": "tCZluGeOZHVX",
        "colab_type": "code",
        "colab": {
          "base_uri": "https://localhost:8080/",
          "height": 51
        },
        "outputId": "5a7dcc72-f915-40f9-e18e-780b82dbd314"
      },
      "cell_type": "code",
      "source": [
        "!kaggle competitions submit -f '{SUBMISSION_FILE}' -m '{SUBMISSION_MESSAGE}'"
      ],
      "execution_count": 49,
      "outputs": [
        {
          "output_type": "stream",
          "text": [
            "Using competition: avito-demand-prediction\r\n",
            "Successfully submitted to Avito Demand Prediction Challenge"
          ],
          "name": "stdout"
        }
      ]
    }
  ]
}