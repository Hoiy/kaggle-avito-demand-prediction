{
  "nbformat": 4,
  "nbformat_minor": 0,
  "metadata": {
    "colab": {
      "name": "prep_fasttext.ipynb",
      "version": "0.3.2",
      "provenance": [],
      "collapsed_sections": []
    },
    "kernelspec": {
      "name": "python3",
      "display_name": "Python 3"
    },
    "accelerator": "GPU"
  },
  "cells": [
    {
      "cell_type": "markdown",
      "metadata": {
        "id": "view-in-github",
        "colab_type": "text"
      },
      "source": [
        "[View in Colaboratory](https://colab.research.google.com/github/Hoiy/kaggle-avito-demand-prediction/blob/master/prep_fasttext.ipynb)"
      ]
    },
    {
      "metadata": {
        "id": "33OYP9w8YPIA",
        "colab_type": "code",
        "colab": {}
      },
      "cell_type": "code",
      "source": [
        "import pandas as pd\n",
        "import numpy as np\n",
        "import os\n",
        "import dotenv\n",
        "import fastText\n",
        "from tqdm import tqdm \n",
        "\n",
        "dotenv.load_dotenv('.env')\n",
        "tqdm.pandas()\n",
        "types = ['train', 'test']"
      ],
      "execution_count": 0,
      "outputs": []
    },
    {
      "metadata": {
        "id": "Jxo7aUcBZS1m",
        "colab_type": "code",
        "colab": {}
      },
      "cell_type": "code",
      "source": [
        "for key in types:\n",
        "  path = './data/%s_prep.snappy.parquet'%key\n",
        "  !gsutil cp gs://{os.environ['GCP_BUCKET']}/{key}_prep.snappy.parquet {path}"
      ],
      "execution_count": 0,
      "outputs": []
    },
    {
      "metadata": {
        "id": "1zZqHTAufxcp",
        "colab_type": "code",
        "colab": {}
      },
      "cell_type": "code",
      "source": [
        "ft = fastText.load_model('./data/russian_fasttext.bin')"
      ],
      "execution_count": 0,
      "outputs": []
    },
    {
      "metadata": {
        "id": "GWynwxczjulq",
        "colab_type": "code",
        "colab": {}
      },
      "cell_type": "code",
      "source": [
        "dfs = {t:pd.read_parquet('./data/%s_prep.snappy.parquet'%t) for t in types}\n",
        "[dfs[t].shape for t in types]"
      ],
      "execution_count": 0,
      "outputs": []
    },
    {
      "metadata": {
        "id": "d3tBGUC7Nfr9",
        "colab_type": "code",
        "colab": {}
      },
      "cell_type": "code",
      "source": [
        "# Fasttext Encoding\n",
        "\n",
        "for col in ['title']:\n",
        "  for t in types:\n",
        "    index = [col+'_ft_%d'%i for i in range(ft.get_dimension())]\n",
        "    dfs[t] = pd.concat([dfs[t][col], dfs[t][col].progress_apply(lambda x: pd.Series(ft.get_sentence_vector(x), index=index))], axis=1)"
      ],
      "execution_count": 0,
      "outputs": []
    },
    {
      "metadata": {
        "id": "i4g2T-sFjqfp",
        "colab_type": "code",
        "colab": {}
      },
      "cell_type": "code",
      "source": [
        "for key in dfs:\n",
        "  path = './data/%s_prep_2.snappy.parquet'%key\n",
        "  dfs[key].to_parquet(path)\n",
        "  !gsutil cp {path} gs://{os.environ['GCP_BUCKET']}/{key}_prep_2.snappy.parquet"
      ],
      "execution_count": 0,
      "outputs": []
    }
  ]
}