{
  "nbformat": 4,
  "nbformat_minor": 0,
  "metadata": {
    "colab": {
      "name": "eda.ipynb",
      "version": "0.3.2",
      "provenance": [],
      "collapsed_sections": []
    },
    "kernelspec": {
      "name": "python3",
      "display_name": "Python 3"
    },
    "accelerator": "GPU"
  },
  "cells": [
    {
      "metadata": {
        "id": "GWynwxczjulq",
        "colab_type": "code",
        "colab": {
          "base_uri": "https://localhost:8080/",
          "height": 85
        },
        "outputId": "d5065e0d-bf48-4f79-9a85-5df42bc33fab"
      },
      "cell_type": "code",
      "source": [
        "!kaggle competitions download -f train.csv.zip --path ./data\n",
        "!kaggle competitions download -f test.csv.zip --path ./data"
      ],
      "execution_count": 2,
      "outputs": [
        {
          "output_type": "stream",
          "text": [
            "Using competition: avito-demand-prediction\n",
            "train.csv.zip: Downloaded 308MB of 308MB to ./data\n",
            "Using competition: avito-demand-prediction\n",
            "test.csv.zip: Downloaded 107MB of 107MB to ./data\n"
          ],
          "name": "stdout"
        }
      ]
    },
    {
      "metadata": {
        "id": "rGL2W37Qi10r",
        "colab_type": "code",
        "colab": {
          "base_uri": "https://localhost:8080/",
          "height": 34
        },
        "outputId": "27a18a58-8ccc-433f-de3a-2dc694a469f3"
      },
      "cell_type": "code",
      "source": [
        "import pandas as pd\n",
        "import numpy as np\n",
        "import os\n",
        "import dotenv\n",
        "import matplotlib.pyplot as plt\n",
        "\n",
        "dotenv.load_dotenv('.env')"
      ],
      "execution_count": 3,
      "outputs": [
        {
          "output_type": "execute_result",
          "data": {
            "text/plain": [
              "True"
            ]
          },
          "metadata": {
            "tags": []
          },
          "execution_count": 3
        }
      ]
    },
    {
      "metadata": {
        "id": "FY5p9vjFi8iO",
        "colab_type": "code",
        "colab": {}
      },
      "cell_type": "code",
      "source": [
        "types = ['train', 'test']\n",
        "dfs = {t:pd.read_csv('./data/%s.csv.zip'%t) for t in types}"
      ],
      "execution_count": 0,
      "outputs": []
    },
    {
      "metadata": {
        "id": "3vuUW-_hMGxq",
        "colab_type": "code",
        "colab": {
          "base_uri": "https://localhost:8080/",
          "height": 34
        },
        "outputId": "ba0b0137-af02-4bf8-a5e1-b0bb833800cc"
      },
      "cell_type": "code",
      "source": [
        "# data size: 1.5M training, 500k testing, 75:25 split, test data occurs after training data, see below\n",
        "dfs['train'].shape, dfs['test'].shape, dfs['train'].shape[0] / (dfs['train'].shape[0] + dfs['test'].shape[0])"
      ],
      "execution_count": 3,
      "outputs": [
        {
          "output_type": "execute_result",
          "data": {
            "text/plain": [
              "((1503424, 18), (508438, 17), 0.7472798830138448)"
            ]
          },
          "metadata": {
            "tags": []
          },
          "execution_count": 3
        }
      ]
    },
    {
      "metadata": {
        "id": "e7sn_rC72ofC",
        "colab_type": "code",
        "colab": {
          "base_uri": "https://localhost:8080/",
          "height": 377
        },
        "outputId": "9d3d21ee-1078-42e0-9461-b5fee52a6acc"
      },
      "cell_type": "code",
      "source": [
        "# columns\n",
        "dfs['train'].head()"
      ],
      "execution_count": 4,
      "outputs": [
        {
          "output_type": "execute_result",
          "data": {
            "text/html": [
              "<div>\n",
              "<style scoped>\n",
              "    .dataframe tbody tr th:only-of-type {\n",
              "        vertical-align: middle;\n",
              "    }\n",
              "\n",
              "    .dataframe tbody tr th {\n",
              "        vertical-align: top;\n",
              "    }\n",
              "\n",
              "    .dataframe thead th {\n",
              "        text-align: right;\n",
              "    }\n",
              "</style>\n",
              "<table border=\"1\" class=\"dataframe\">\n",
              "  <thead>\n",
              "    <tr style=\"text-align: right;\">\n",
              "      <th></th>\n",
              "      <th>item_id</th>\n",
              "      <th>user_id</th>\n",
              "      <th>region</th>\n",
              "      <th>city</th>\n",
              "      <th>parent_category_name</th>\n",
              "      <th>category_name</th>\n",
              "      <th>param_1</th>\n",
              "      <th>param_2</th>\n",
              "      <th>param_3</th>\n",
              "      <th>title</th>\n",
              "      <th>description</th>\n",
              "      <th>price</th>\n",
              "      <th>item_seq_number</th>\n",
              "      <th>activation_date</th>\n",
              "      <th>user_type</th>\n",
              "      <th>image</th>\n",
              "      <th>image_top_1</th>\n",
              "      <th>deal_probability</th>\n",
              "    </tr>\n",
              "  </thead>\n",
              "  <tbody>\n",
              "    <tr>\n",
              "      <th>0</th>\n",
              "      <td>b912c3c6a6ad</td>\n",
              "      <td>e00f8ff2eaf9</td>\n",
              "      <td>Свердловская область</td>\n",
              "      <td>Екатеринбург</td>\n",
              "      <td>Личные вещи</td>\n",
              "      <td>Товары для детей и игрушки</td>\n",
              "      <td>Постельные принадлежности</td>\n",
              "      <td>NaN</td>\n",
              "      <td>NaN</td>\n",
              "      <td>Кокоби(кокон для сна)</td>\n",
              "      <td>Кокон для сна малыша,пользовались меньше месяц...</td>\n",
              "      <td>400.0</td>\n",
              "      <td>2</td>\n",
              "      <td>2017-03-28</td>\n",
              "      <td>Private</td>\n",
              "      <td>d10c7e016e03247a3bf2d13348fe959fe6f436c1caf64c...</td>\n",
              "      <td>1008.0</td>\n",
              "      <td>0.12789</td>\n",
              "    </tr>\n",
              "    <tr>\n",
              "      <th>1</th>\n",
              "      <td>2dac0150717d</td>\n",
              "      <td>39aeb48f0017</td>\n",
              "      <td>Самарская область</td>\n",
              "      <td>Самара</td>\n",
              "      <td>Для дома и дачи</td>\n",
              "      <td>Мебель и интерьер</td>\n",
              "      <td>Другое</td>\n",
              "      <td>NaN</td>\n",
              "      <td>NaN</td>\n",
              "      <td>Стойка для Одежды</td>\n",
              "      <td>Стойка для одежды, под вешалки. С бутика.</td>\n",
              "      <td>3000.0</td>\n",
              "      <td>19</td>\n",
              "      <td>2017-03-26</td>\n",
              "      <td>Private</td>\n",
              "      <td>79c9392cc51a9c81c6eb91eceb8e552171db39d7142700...</td>\n",
              "      <td>692.0</td>\n",
              "      <td>0.00000</td>\n",
              "    </tr>\n",
              "    <tr>\n",
              "      <th>2</th>\n",
              "      <td>ba83aefab5dc</td>\n",
              "      <td>91e2f88dd6e3</td>\n",
              "      <td>Ростовская область</td>\n",
              "      <td>Ростов-на-Дону</td>\n",
              "      <td>Бытовая электроника</td>\n",
              "      <td>Аудио и видео</td>\n",
              "      <td>Видео, DVD и Blu-ray плееры</td>\n",
              "      <td>NaN</td>\n",
              "      <td>NaN</td>\n",
              "      <td>Philips bluray</td>\n",
              "      <td>В хорошем состоянии, домашний кинотеатр с blu ...</td>\n",
              "      <td>4000.0</td>\n",
              "      <td>9</td>\n",
              "      <td>2017-03-20</td>\n",
              "      <td>Private</td>\n",
              "      <td>b7f250ee3f39e1fedd77c141f273703f4a9be59db4b48a...</td>\n",
              "      <td>3032.0</td>\n",
              "      <td>0.43177</td>\n",
              "    </tr>\n",
              "    <tr>\n",
              "      <th>3</th>\n",
              "      <td>02996f1dd2ea</td>\n",
              "      <td>bf5cccea572d</td>\n",
              "      <td>Татарстан</td>\n",
              "      <td>Набережные Челны</td>\n",
              "      <td>Личные вещи</td>\n",
              "      <td>Товары для детей и игрушки</td>\n",
              "      <td>Автомобильные кресла</td>\n",
              "      <td>NaN</td>\n",
              "      <td>NaN</td>\n",
              "      <td>Автокресло</td>\n",
              "      <td>Продам кресло от0-25кг</td>\n",
              "      <td>2200.0</td>\n",
              "      <td>286</td>\n",
              "      <td>2017-03-25</td>\n",
              "      <td>Company</td>\n",
              "      <td>e6ef97e0725637ea84e3d203e82dadb43ed3cc0a1c8413...</td>\n",
              "      <td>796.0</td>\n",
              "      <td>0.80323</td>\n",
              "    </tr>\n",
              "    <tr>\n",
              "      <th>4</th>\n",
              "      <td>7c90be56d2ab</td>\n",
              "      <td>ef50846afc0b</td>\n",
              "      <td>Волгоградская область</td>\n",
              "      <td>Волгоград</td>\n",
              "      <td>Транспорт</td>\n",
              "      <td>Автомобили</td>\n",
              "      <td>С пробегом</td>\n",
              "      <td>ВАЗ (LADA)</td>\n",
              "      <td>2110</td>\n",
              "      <td>ВАЗ 2110, 2003</td>\n",
              "      <td>Все вопросы по телефону.</td>\n",
              "      <td>40000.0</td>\n",
              "      <td>3</td>\n",
              "      <td>2017-03-16</td>\n",
              "      <td>Private</td>\n",
              "      <td>54a687a3a0fc1d68aed99bdaaf551c5c70b761b16fd0a2...</td>\n",
              "      <td>2264.0</td>\n",
              "      <td>0.20797</td>\n",
              "    </tr>\n",
              "  </tbody>\n",
              "</table>\n",
              "</div>"
            ],
            "text/plain": [
              "        item_id       user_id                 region              city  \\\n",
              "0  b912c3c6a6ad  e00f8ff2eaf9   Свердловская область      Екатеринбург   \n",
              "1  2dac0150717d  39aeb48f0017      Самарская область            Самара   \n",
              "2  ba83aefab5dc  91e2f88dd6e3     Ростовская область    Ростов-на-Дону   \n",
              "3  02996f1dd2ea  bf5cccea572d              Татарстан  Набережные Челны   \n",
              "4  7c90be56d2ab  ef50846afc0b  Волгоградская область         Волгоград   \n",
              "\n",
              "  parent_category_name               category_name  \\\n",
              "0          Личные вещи  Товары для детей и игрушки   \n",
              "1      Для дома и дачи           Мебель и интерьер   \n",
              "2  Бытовая электроника               Аудио и видео   \n",
              "3          Личные вещи  Товары для детей и игрушки   \n",
              "4            Транспорт                  Автомобили   \n",
              "\n",
              "                       param_1     param_2 param_3                  title  \\\n",
              "0    Постельные принадлежности         NaN     NaN  Кокоби(кокон для сна)   \n",
              "1                       Другое         NaN     NaN      Стойка для Одежды   \n",
              "2  Видео, DVD и Blu-ray плееры         NaN     NaN         Philips bluray   \n",
              "3         Автомобильные кресла         NaN     NaN             Автокресло   \n",
              "4                   С пробегом  ВАЗ (LADA)    2110         ВАЗ 2110, 2003   \n",
              "\n",
              "                                         description    price  \\\n",
              "0  Кокон для сна малыша,пользовались меньше месяц...    400.0   \n",
              "1          Стойка для одежды, под вешалки. С бутика.   3000.0   \n",
              "2  В хорошем состоянии, домашний кинотеатр с blu ...   4000.0   \n",
              "3                             Продам кресло от0-25кг   2200.0   \n",
              "4                           Все вопросы по телефону.  40000.0   \n",
              "\n",
              "   item_seq_number activation_date user_type  \\\n",
              "0                2      2017-03-28   Private   \n",
              "1               19      2017-03-26   Private   \n",
              "2                9      2017-03-20   Private   \n",
              "3              286      2017-03-25   Company   \n",
              "4                3      2017-03-16   Private   \n",
              "\n",
              "                                               image  image_top_1  \\\n",
              "0  d10c7e016e03247a3bf2d13348fe959fe6f436c1caf64c...       1008.0   \n",
              "1  79c9392cc51a9c81c6eb91eceb8e552171db39d7142700...        692.0   \n",
              "2  b7f250ee3f39e1fedd77c141f273703f4a9be59db4b48a...       3032.0   \n",
              "3  e6ef97e0725637ea84e3d203e82dadb43ed3cc0a1c8413...        796.0   \n",
              "4  54a687a3a0fc1d68aed99bdaaf551c5c70b761b16fd0a2...       2264.0   \n",
              "\n",
              "   deal_probability  \n",
              "0           0.12789  \n",
              "1           0.00000  \n",
              "2           0.43177  \n",
              "3           0.80323  \n",
              "4           0.20797  "
            ]
          },
          "metadata": {
            "tags": []
          },
          "execution_count": 4
        }
      ]
    },
    {
      "metadata": {
        "id": "cf5rdSa0XYj0",
        "colab_type": "code",
        "colab": {
          "base_uri": "https://localhost:8080/",
          "height": 34
        },
        "outputId": "052e159f-eb68-4910-c40a-78558a371388"
      },
      "cell_type": "code",
      "source": [
        "# Activation Date\n",
        "\n",
        "# How Public and Private LB split data\n",
        "# https://www.kaggle.com/cczaixian/test-on-lb-split/code\n",
        "# Public  2017-04-12 - 2017-04-13\n",
        "# Private 2017-04-14 - 2017-04-18\n",
        "\n",
        "dfs['train']['activation_date'].min(), dfs['train']['activation_date'].max(), dfs['test']['activation_date'].min(), dfs['test']['activation_date'].max()"
      ],
      "execution_count": 5,
      "outputs": [
        {
          "output_type": "execute_result",
          "data": {
            "text/plain": [
              "('2017-03-15', '2017-04-07', '2017-04-12', '2017-04-20')"
            ]
          },
          "metadata": {
            "tags": []
          },
          "execution_count": 5
        }
      ]
    },
    {
      "metadata": {
        "id": "jAXSGg8uadoq",
        "colab_type": "code",
        "colab": {
          "base_uri": "https://localhost:8080/",
          "height": 578
        },
        "outputId": "dff8038c-1618-4dd5-a71b-17667acba686"
      },
      "cell_type": "code",
      "source": [
        "dfs['train'].groupby('activation_date').size(), dfs['test'].groupby('activation_date').size(), sum(dfs['test'].activation_date <= '2017-04-13') / len(dfs['test'])\n",
        "# \n",
        "# For public LB: 2017-04-12 - 2017-04-13 (Wed-Thur)\n",
        "# Training: 2017-03-15 - 2017-03-16 (Wed-Thur) \n",
        "# and 2017-03-22 - 2017-03-23 (Wed-Thur)\n",
        "#\n",
        "# This leaderboard is calculated with approximately 31% of the test data.\n",
        "# The final results will be based on the other 69%, so the final standings may be different.\n",
        "#\n",
        "# The final score is ranked by last 69%\n",
        "# 2017-04-14 - 2017-04-18 (mainly) (Fri-Tue)\n",
        "#\n",
        "# Corresponding to training data: 03-17 - 03-21 (Fri-Tue), 03-24 - 03-28 (Fri-Tue)\n",
        "#\n",
        "# TODO: Private / Public LB local validation set"
      ],
      "execution_count": 6,
      "outputs": [
        {
          "output_type": "execute_result",
          "data": {
            "text/plain": [
              "(activation_date\n",
              " 2017-03-15    108615\n",
              " 2017-03-16    106168\n",
              " 2017-03-17     98773\n",
              " 2017-03-18     97554\n",
              " 2017-03-19    114416\n",
              " 2017-03-20    115190\n",
              " 2017-03-21    110535\n",
              " 2017-03-22    109813\n",
              " 2017-03-23    106544\n",
              " 2017-03-24     97351\n",
              " 2017-03-25     97104\n",
              " 2017-03-26    113513\n",
              " 2017-03-27    114863\n",
              " 2017-03-28    112885\n",
              " 2017-03-29        87\n",
              " 2017-03-30         3\n",
              " 2017-03-31         1\n",
              " 2017-04-01         3\n",
              " 2017-04-02         3\n",
              " 2017-04-03         2\n",
              " 2017-04-07         1\n",
              " dtype: int64, activation_date\n",
              " 2017-04-12    81824\n",
              " 2017-04-13    77176\n",
              " 2017-04-14    70366\n",
              " 2017-04-15    58793\n",
              " 2017-04-16    58909\n",
              " 2017-04-17    80191\n",
              " 2017-04-18    81114\n",
              " 2017-04-19       64\n",
              " 2017-04-20        1\n",
              " dtype: int64, 0.312722495171486)"
            ]
          },
          "metadata": {
            "tags": []
          },
          "execution_count": 6
        }
      ]
    },
    {
      "metadata": {
        "id": "Dnof3bZJN-sf",
        "colab_type": "code",
        "colab": {
          "base_uri": "https://localhost:8080/",
          "height": 352
        },
        "outputId": "9268ca70-23fb-4e68-a144-70540a7449d0"
      },
      "cell_type": "code",
      "source": [
        "# deal_probability\n",
        "fig, axes = plt.subplots(nrows=1, ncols=2, figsize=(20,5))\n",
        "plt.subplots_adjust(wspace=0.5, hspace=0.0);\n",
        "\n",
        "dfs['train'].deal_probability.plot.hist(bins=100, ax=axes[0], title='Deal Probability')\n",
        "dfs['train'][dfs['train'].deal_probability > 0].deal_probability.plot.hist(bins=100, ax=axes[1], title='Deal Probability (Drops all 0.0)')\n",
        "\n",
        "# Uniform sampling (see below) implies that its better for our regressor to generate 4 main category of output\n",
        "# 0. 0.0\n",
        "# 1. 0.0 < p < 0.6\n",
        "# 2. 0.6 <= p < 0.89\n",
        "# 3. 1.0\n",
        "\n",
        "# No deals happends at 0.89 <= p < 1.0\n",
        "sum((dfs['train'].deal_probability >= 0.89) & (dfs['train'].deal_probability < 1)), sum((dfs['train'].deal_probability >= 0.88) & (dfs['train'].deal_probability < 1))\n",
        "\n",
        "# TODO:\n",
        "# deal_probability to categorial label 0~4, model predict 5 output: probability of 0~4, if group = 1 or 2, then use the values of 5th output, else output 0 or 1 depends on the category "
      ],
      "execution_count": 7,
      "outputs": [
        {
          "output_type": "execute_result",
          "data": {
            "text/plain": [
              "(0, 557)"
            ]
          },
          "metadata": {
            "tags": []
          },
          "execution_count": 7
        },
        {
          "output_type": "display_data",
          "data": {
            "image/png": "[encoded data removed]",
            "text/plain": [
              "<matplotlib.figure.Figure at 0x7f778b591048>"
            ]
          },
          "metadata": {
            "tags": []
          }
        }
      ]
    },
    {
      "metadata": {
        "id": "t95vloloIq5i",
        "colab_type": "code",
        "colab": {}
      },
      "cell_type": "code",
      "source": [
        "# image_top_1\n",
        "# image_top_1 is very likely image categorical labels\n",
        "# https://www.kaggle.com/liuhdsgoal/about-image-top-1is-a-classify-label"
      ],
      "execution_count": 0,
      "outputs": []
    },
    {
      "metadata": {
        "id": "IDXlQKSTJS1z",
        "colab_type": "code",
        "colab": {
          "base_uri": "https://localhost:8080/",
          "height": 352
        },
        "outputId": "ce2bbb7b-c402-47b4-9ef7-93f4361f2cf1"
      },
      "cell_type": "code",
      "source": [
        "fig, axes = plt.subplots(nrows=1, ncols=2, figsize=(20,5))\n",
        "plt.subplots_adjust(wspace=0.5, hspace=0.0);\n",
        "\n",
        "dfs['train'].image_top_1.plot.hist(bins=100, ax=axes[0], legend=True, title='train.image_top_1')\n",
        "dfs['test'].image_top_1.plot.hist(bins=100, ax=axes[1], legend=True, title='test.image_top_1')"
      ],
      "execution_count": 9,
      "outputs": [
        {
          "output_type": "execute_result",
          "data": {
            "text/plain": [
              "<matplotlib.axes._subplots.AxesSubplot at 0x7f7789246da0>"
            ]
          },
          "metadata": {
            "tags": []
          },
          "execution_count": 9
        },
        {
          "output_type": "display_data",
          "data": {
            "image/png": "[encoded data removed]",
            "text/plain": [
              "<matplotlib.figure.Figure at 0x7f778947ba20>"
            ]
          },
          "metadata": {
            "tags": []
          }
        }
      ]
    },
    {
      "metadata": {
        "id": "DJHfbUO6JTZQ",
        "colab_type": "code",
        "colab": {
          "base_uri": "https://localhost:8080/",
          "height": 34
        },
        "outputId": "c398b924-9db4-4200-e056-4140e46a8fe3"
      },
      "cell_type": "code",
      "source": [
        "# looking at the above distribution, it looks like training and testing is splited by uniform sampling.\n",
        "# TODO: Fill N/A with 3067, convert to int, do one-hot encoding\n",
        "max(dfs['train'].image_top_1.max(), dfs['test'].image_top_1.max()), min(dfs['train'].image_top_1.min(), dfs['test'].image_top_1.min())"
      ],
      "execution_count": 10,
      "outputs": [
        {
          "output_type": "execute_result",
          "data": {
            "text/plain": [
              "(3066.0, 0.0)"
            ]
          },
          "metadata": {
            "tags": []
          },
          "execution_count": 10
        }
      ]
    },
    {
      "metadata": {
        "id": "szyDp137JXjw",
        "colab_type": "code",
        "colab": {
          "base_uri": "https://localhost:8080/",
          "height": 425
        },
        "outputId": "fe8d0020-f0a3-438d-ad3a-0f0aeb152301"
      },
      "cell_type": "code",
      "source": [
        "# region\n",
        "dfs['train'].region.unique(), dfs['test'].region.unique(), len(dfs['train'].region.unique()), len(dfs['test'].region.unique())"
      ],
      "execution_count": 11,
      "outputs": [
        {
          "output_type": "execute_result",
          "data": {
            "text/plain": [
              "(array(['Свердловская область', 'Самарская область', 'Ростовская область',\n",
              "        'Татарстан', 'Волгоградская область', 'Нижегородская область',\n",
              "        'Пермский край', 'Оренбургская область', 'Ханты-Мансийский АО',\n",
              "        'Тюменская область', 'Башкортостан', 'Краснодарский край',\n",
              "        'Новосибирская область', 'Омская область', 'Белгородская область',\n",
              "        'Челябинская область', 'Воронежская область',\n",
              "        'Кемеровская область', 'Саратовская область',\n",
              "        'Владимирская область', 'Калининградская область',\n",
              "        'Красноярский край', 'Ярославская область', 'Удмуртия',\n",
              "        'Алтайский край', 'Иркутская область', 'Ставропольский край',\n",
              "        'Тульская область'], dtype=object),\n",
              " array(['Волгоградская область', 'Свердловская область',\n",
              "        'Новосибирская область', 'Саратовская область',\n",
              "        'Оренбургская область', 'Ростовская область',\n",
              "        'Калининградская область', 'Пермский край', 'Краснодарский край',\n",
              "        'Башкортостан', 'Самарская область', 'Иркутская область',\n",
              "        'Ставропольский край', 'Нижегородская область', 'Тульская область',\n",
              "        'Омская область', 'Алтайский край', 'Татарстан',\n",
              "        'Кемеровская область', 'Челябинская область',\n",
              "        'Ханты-Мансийский АО', 'Ярославская область', 'Тюменская область',\n",
              "        'Белгородская область', 'Красноярский край', 'Воронежская область',\n",
              "        'Владимирская область', 'Удмуртия'], dtype=object),\n",
              " 28,\n",
              " 28)"
            ]
          },
          "metadata": {
            "tags": []
          },
          "execution_count": 11
        }
      ]
    },
    {
      "metadata": {
        "id": "nK9sgzlEvNLA",
        "colab_type": "code",
        "colab": {
          "base_uri": "https://localhost:8080/",
          "height": 119
        },
        "outputId": "87d218d8-4878-40af-a839-39e16378f8b2"
      },
      "cell_type": "code",
      "source": [
        "# city\n",
        "dfs['train'].city.unique(), dfs['test'].city.unique(), len(dfs['train'].city.unique()), len(dfs['test'].city.unique())"
      ],
      "execution_count": 12,
      "outputs": [
        {
          "output_type": "execute_result",
          "data": {
            "text/plain": [
              "(array(['Екатеринбург', 'Самара', 'Ростов-на-Дону', ..., 'Левокумка',\n",
              "        'Онохино', 'Ломинцевский'], dtype=object),\n",
              " array(['Волгоград', 'Нижняя Тура', 'Бердск', ..., 'Новорождественская',\n",
              "        'Жигалово', 'Преградное'], dtype=object),\n",
              " 1733,\n",
              " 1644)"
            ]
          },
          "metadata": {
            "tags": []
          },
          "execution_count": 12
        }
      ]
    },
    {
      "metadata": {
        "id": "RZStI0J0vpFO",
        "colab_type": "code",
        "colab": {
          "base_uri": "https://localhost:8080/",
          "height": 646
        },
        "outputId": "750d3e7e-9564-4a7f-d234-d785caa23d97"
      },
      "cell_type": "code",
      "source": [
        "# category name\n",
        "dfs['train'].category_name.unique(), dfs['test'].category_name.unique(), len(dfs['train'].category_name.unique()), len(dfs['test'].category_name.unique())"
      ],
      "execution_count": 13,
      "outputs": [
        {
          "output_type": "execute_result",
          "data": {
            "text/plain": [
              "(array(['Товары для детей и игрушки', 'Мебель и интерьер', 'Аудио и видео',\n",
              "        'Автомобили', 'Ремонт и строительство',\n",
              "        'Одежда, обувь, аксессуары', 'Детская одежда и обувь', 'Квартиры',\n",
              "        'Товары для компьютера', 'Собаки', 'Дома, дачи, коттеджи',\n",
              "        'Товары для животных', 'Другие животные', 'Комнаты',\n",
              "        'Коллекционирование', 'Коммерческая недвижимость',\n",
              "        'Посуда и товары для кухни', 'Красота и здоровье', 'Аквариум',\n",
              "        'Телефоны', 'Часы и украшения', 'Предложение услуг', 'Птицы',\n",
              "        'Спорт и отдых', 'Музыкальные инструменты', 'Бытовая техника',\n",
              "        'Игры, приставки и программы', 'Земельные участки',\n",
              "        'Продукты питания', 'Кошки', 'Билеты и путешествия',\n",
              "        'Книги и журналы', 'Растения', 'Гаражи и машиноместа',\n",
              "        'Мотоциклы и мототехника', 'Планшеты и электронные книги',\n",
              "        'Оборудование для бизнеса', 'Настольные компьютеры', 'Ноутбуки',\n",
              "        'Велосипеды', 'Грузовики и спецтехника', 'Готовый бизнес',\n",
              "        'Фототехника', 'Водный транспорт', 'Охота и рыбалка',\n",
              "        'Оргтехника и расходники', 'Недвижимость за рубежом'], dtype=object),\n",
              " array(['Детская одежда и обувь', 'Велосипеды', 'Аудио и видео',\n",
              "        'Бытовая техника', 'Товары для детей и игрушки',\n",
              "        'Ремонт и строительство', 'Ноутбуки', 'Телефоны',\n",
              "        'Товары для компьютера', 'Предложение услуг',\n",
              "        'Одежда, обувь, аксессуары', 'Охота и рыбалка', 'Другие животные',\n",
              "        'Книги и журналы', 'Часы и украшения', 'Продукты питания',\n",
              "        'Оргтехника и расходники', 'Товары для животных',\n",
              "        'Мебель и интерьер', 'Готовый бизнес', 'Автомобили',\n",
              "        'Билеты и путешествия', 'Квартиры', 'Кошки',\n",
              "        'Музыкальные инструменты', 'Гаражи и машиноместа',\n",
              "        'Дома, дачи, коттеджи', 'Спорт и отдых', 'Мотоциклы и мототехника',\n",
              "        'Растения', 'Земельные участки', 'Игры, приставки и программы',\n",
              "        'Комнаты', 'Птицы', 'Красота и здоровье', 'Коллекционирование',\n",
              "        'Фототехника', 'Коммерческая недвижимость',\n",
              "        'Планшеты и электронные книги', 'Настольные компьютеры',\n",
              "        'Оборудование для бизнеса', 'Аквариум',\n",
              "        'Посуда и товары для кухни', 'Грузовики и спецтехника', 'Собаки',\n",
              "        'Водный транспорт', 'Недвижимость за рубежом'], dtype=object),\n",
              " 47,\n",
              " 47)"
            ]
          },
          "metadata": {
            "tags": []
          },
          "execution_count": 13
        }
      ]
    },
    {
      "metadata": {
        "id": "L1LV0avov9U3",
        "colab_type": "code",
        "colab": {
          "base_uri": "https://localhost:8080/",
          "height": 85
        },
        "outputId": "26c3d1c1-f85e-4713-a48f-288ce25c5270"
      },
      "cell_type": "code",
      "source": [
        "# user_type\n",
        "dfs['train'].user_type.unique(), dfs['test'].user_type.unique(), len(dfs['train'].user_type.unique()), len(dfs['test'].user_type.unique())"
      ],
      "execution_count": 14,
      "outputs": [
        {
          "output_type": "execute_result",
          "data": {
            "text/plain": [
              "(array(['Private', 'Company', 'Shop'], dtype=object),\n",
              " array(['Private', 'Shop', 'Company'], dtype=object),\n",
              " 3,\n",
              " 3)"
            ]
          },
          "metadata": {
            "tags": []
          },
          "execution_count": 14
        }
      ]
    },
    {
      "metadata": {
        "id": "2MtyUSdtwKBg",
        "colab_type": "code",
        "colab": {
          "base_uri": "https://localhost:8080/",
          "height": 364
        },
        "outputId": "bee50cc1-767c-4646-b8e0-48d7d2ed0462"
      },
      "cell_type": "code",
      "source": [
        "# price\n",
        "# TODO: log and standardize, append flag for isnan\n",
        "import numpy as np\n",
        "np.log(dfs['train'].price.fillna(0.) + 1).plot.hist(bins=100)"
      ],
      "execution_count": 15,
      "outputs": [
        {
          "output_type": "execute_result",
          "data": {
            "text/plain": [
              "<matplotlib.axes._subplots.AxesSubplot at 0x7f7788f9c978>"
            ]
          },
          "metadata": {
            "tags": []
          },
          "execution_count": 15
        },
        {
          "output_type": "display_data",
          "data": {
            "image/png": "[encoded data removed]",
            "text/plain": [
              "<matplotlib.figure.Figure at 0x7f778b956fd0>"
            ]
          },
          "metadata": {
            "tags": []
          }
        }
      ]
    },
    {
      "metadata": {
        "id": "7NnuQlk1H3-W",
        "colab_type": "code",
        "colab": {
          "base_uri": "https://localhost:8080/",
          "height": 5644
        },
        "outputId": "74d5125f-d32f-4e11-bab4-58729bcea886"
      },
      "cell_type": "code",
      "source": [
        "# param_1,2,3\n",
        "dfs['test']['param_1'].unique(), dfs['test']['param_2'].unique(), dfs['test']['param_3'].unique()"
      ],
      "execution_count": 16,
      "outputs": [
        {
          "output_type": "execute_result",
          "data": {
            "text/plain": [
              "(array(['Для мальчиков', 'Дорожные', 'Телевизоры и проекторы', 'Для кухни',\n",
              "        'Детские коляски', 'Окна и балконы', nan, 'Аксессуары',\n",
              "        'Флэшки и карты памяти', 'Для девочек', 'Уход за животными',\n",
              "        'Стройматериалы', 'Ремонт, строительство', 'Мужская одежда',\n",
              "        'С/х животные', 'Книги', 'Часы', 'Транспорт, перевозки',\n",
              "        'Женская одежда', 'Климатическое оборудование', 'Канцелярия',\n",
              "        'Шкафы и комоды', 'Развлечения', 'Видеокамеры', 'С пробегом',\n",
              "        'Путешествия', 'Продам', 'Столы и стулья', 'Сетевое оборудование',\n",
              "        'МФУ, копиры и сканеры', 'Другое', 'Инструменты', 'Кролики',\n",
              "        'Предметы интерьера, искусство', 'Музыкальные центры, магнитолы',\n",
              "        'Другая', 'Аккордеоны, гармони, баяны', 'Сниму', 'Samsung',\n",
              "        'Ремонт и обслуживание техники', 'Сантехника и сауна',\n",
              "        'Фитнес и тренажёры', 'Сдам', 'Мотоциклы', 'Мониторы',\n",
              "        'Автомобильные кресла', 'Мастер на час', 'Учебная литература',\n",
              "        'Игры для приставок', 'Бижутерия', 'Велосипеды и самокаты',\n",
              "        'Кровати, диваны и кресла', 'Косметика', 'Туризм',\n",
              "        'Бинокли и телескопы', 'Грампластинки', 'Другие марки',\n",
              "        'Мопеды и скутеры', 'Двери', 'Общественное питание',\n",
              "        'Садовая техника', 'Сфера услуг', 'Игровые приставки', 'Планшеты',\n",
              "        'Игрушки', 'Тайская', 'Ювелирные изделия', 'Наушники',\n",
              "        'Средства гигиены', 'ИБП, сетевые фильтры', 'iPhone', 'Принтеры',\n",
              "        'Снегоходы', 'Оборудование и аксессуары', 'Детские',\n",
              "        'Для индивидуального ухода', 'Посуда', 'Зимние виды спорта',\n",
              "        'Грызуны', 'LG', 'Детская мебель', 'Для салона красоты',\n",
              "        'Сибирская', 'Гитары и другие струнные', 'Для дома',\n",
              "        'Постельные принадлежности', 'Камины и обогреватели',\n",
              "        'Номера и SIM-карты', 'Освещение', 'Lenovo', 'Горные',\n",
              "        'Усилители и ресиверы', 'Грузовики', 'Приборы и аксессуары',\n",
              "        'Компьютерные столы и кресла', 'Комплектующие', 'Nokia',\n",
              "        'Для ресторана', 'Компактные фотоаппараты', 'Куплю',\n",
              "        'Деловые услуги', 'Пианино и другие клавишные',\n",
              "        'Красота, здоровье', 'Сельхозтехника', 'Торговля',\n",
              "        'Запчасти и аксессуары', 'Товары для кормления', 'Прицепы', 'Sony',\n",
              "        'Для магазина', 'Видео, DVD и Blu-ray плееры',\n",
              "        'Сад, благоустройство', 'Парфюмерия', 'Журналы, газеты, брошюры',\n",
              "        'Товары для кухни', 'Моторные лодки', 'Реклама, полиграфия',\n",
              "        'Картины', 'Военные вещи', 'Кухонные гарнитуры', 'Fly',\n",
              "        'Средства для похудения', 'Шотландская', 'Йоркширский терьер',\n",
              "        'Единоборства', 'Товары для купания', 'HTC', 'Вездеходы',\n",
              "        'Промышленное', 'Бильярд и боулинг', 'Prestigio', 'ВМХ',\n",
              "        'Текстиль и ковры', 'Модели', 'Оборудование, производство',\n",
              "        'Няни, сиделки', 'Праздники, мероприятия',\n",
              "        'Дайвинг и водный спорт', 'Объективы', 'Meizu', 'Товары для школы',\n",
              "        'ZTE', 'Клавиатуры и мыши', 'Курьерские поручения',\n",
              "        'Ролики и скейтбординг', 'Huawei', 'Зеркальные фотоаппараты',\n",
              "        'Коммунальная техника', 'Расходные материалы', 'Новые',\n",
              "        'Веб-камеры', 'Монеты', 'Карты, купоны', 'Пейнтбол и страйкбол',\n",
              "        'Бенгальская', 'IT, интернет, телеком', 'Курильский бобтейл',\n",
              "        'Катера и яхты', 'Киндер-сюрприз', 'Обучение, курсы',\n",
              "        'Фотографии, письма', 'Канадский сфинкс',\n",
              "        'Акустика, колонки, сабвуферы', 'Подставки и тумбы', 'Той-терьер',\n",
              "        'Лёгкий транспорт', 'Джойстики и рули', 'Акустика', 'Уборка',\n",
              "        'Микрофоны', 'Highscreen', 'Строительная техника', 'Банкноты',\n",
              "        'Фото- и видеосъёмка', 'Надувные лодки', 'Квадроциклы', 'Открытки',\n",
              "        'Пекинес', 'Для студии и концертов', 'MP3-плееры', 'Тягачи',\n",
              "        'Игры', 'Потолки', 'Мейн-кун', 'Спорт', 'Жетоны, медали, значки',\n",
              "        'Установка техники', 'Искусство', 'Немецкая овчарка',\n",
              "        'Электронные книги', 'Мастиф', 'Лайка', 'Игры с мячом',\n",
              "        'Корниш-рекс', 'Xiaomi', 'Плёночные фотоаппараты',\n",
              "        'Средства для волос', 'Настольные игры', 'Бульдозеры', 'Рации',\n",
              "        'Марки', 'Британская', 'Стационарные телефоны', 'Телефония',\n",
              "        'Той-пудель', 'Духовые', 'Мопс', 'Для офиса', 'Micromax', 'Explay',\n",
              "        'Бытовые услуги', 'Автобусы', 'Музыка и фильмы', 'Alcatel',\n",
              "        'Пудель', 'Пепельницы, зажигалки', 'Программы', 'Погрузчики',\n",
              "        'ASUS', 'Чихуахуа', 'Acer', 'Кабели и адаптеры', 'Хорьки',\n",
              "        'Джек Рассел терьер', 'Скрипки и другие смычковые', 'Лабрадор',\n",
              "        'BQ', 'Аляскинский маламут', 'Производство', 'Microsoft',\n",
              "        'Экскаваторы', 'Кокер спаниель', 'Шпиц', 'Охрана, безопасность',\n",
              "        'Курцхаар', 'Фокстерьер', 'Philips', 'Сибирский хаски',\n",
              "        'Сельское хозяйство', 'Персидская', 'Компьютерные игры',\n",
              "        'Ротвейлер', 'Бернский зенненхунд', 'Питбуль', 'Автокраны',\n",
              "        'Американский кёрл', 'Среднеазиатская овчарка', 'Абиссинская',\n",
              "        'Шарпей', 'Уничтожители бумаг', 'Самоедская лайка', 'Такса', 'MTS',\n",
              "        'Далматин', 'Овчарка', 'Питание, кейтеринг', 'Ягдтерьер',\n",
              "        'Motorola', 'Ориентальная', 'Лошади', 'Кавказская овчарка',\n",
              "        'Русская голубая', 'ТВ-тюнеры', 'Папийон', 'Бурманская',\n",
              "        'Невская маскарадная', 'DEXP', 'Болонки',\n",
              "        'Теннис, бадминтон, пинг-понг', 'Театр, опера, балет',\n",
              "        'Американский бульдог', 'Пластиковые карточки', 'Концерты',\n",
              "        'Бассет', 'Девон-рекс', 'Акита', 'Дог', 'Ударные',\n",
              "        'Стаффордширский терьер', 'BlackBerry', 'Донской сфинкс',\n",
              "        'Переносные жёсткие диски', 'Вёсельные лодки', 'teXet',\n",
              "        'Календари', 'Кане Корсо', 'Siemens', 'Рептилии', 'Экзотическая',\n",
              "        'Московская сторожевая', 'Восточноевропейская овчарка', 'Картинг',\n",
              "        'Этикетки, бутылки, пробки', 'Европейская', 'Балинез',\n",
              "        'Цвергпинчер', 'Китайская хохлатая', 'Французский бульдог',\n",
              "        'Бурбуль', 'Ши-тцу', 'Спаниель', 'Документы', 'Интернет-магазин',\n",
              "        'Билеты', 'Боксер', 'Строительство', 'Амфибии', 'Бигль',\n",
              "        'Ретривер', 'Сиамская', 'Сеттер', 'Бивер', 'Левретка',\n",
              "        'Каяки и каноэ', 'Автодома', 'Цвергшнауцер',\n",
              "        'Техника для лесозаготовки', 'Конверты и почтовые карточки',\n",
              "        'Японский хин', 'Panasonic', 'Керн терьер', 'Сенбернар', 'Багги',\n",
              "        'Чау-чау', 'Турецкая ангора', 'Спортивные карточки',\n",
              "        'Макеты оружия', 'Вещи знаменитостей, автографы',\n",
              "        'Швейцарская овчарка', 'Колли', 'Пойнтер', 'Бишон фризе',\n",
              "        'Пти брабансон', 'Норвежская лесная', 'Гидроциклы',\n",
              "        'Английский бульдог', 'Цирк, кино', 'Шелти', 'Vertu', 'Басенджи',\n",
              "        'Ризеншнауцер', 'Сомалийская', 'Бриар', 'Бультерьер',\n",
              "        'Вест хайленд вайт терьер', 'Доберман', 'Бульмастиф', 'Петерболд',\n",
              "        'Манчкин', 'Родезийский риджбек', 'Ньюфаундленд', 'Вельштерьер',\n",
              "        'Брюссельский гриффон', 'Русская борзая', 'Уральский рекс',\n",
              "        'Меконгский бобтейл', 'Эрдельтерьер', 'Бельгийская овчарка',\n",
              "        'Шоу, мюзикл', 'Миттельшнауцер', 'Бельгийский гриффон',\n",
              "        'Ирландский терьер'], dtype=object),\n",
              " array(['Обувь', nan, 'Вытяжки', 'Чехлы и плёнки', 'Ремонт квартиры',\n",
              "        'Джинсы', 'Трикотаж', 'Автосервис', 'Свадебные платья',\n",
              "        'Вентиляторы', 'Платья и юбки', 'Спецтехника',\n",
              "        'Трикотаж и футболки', 'Ремонт ванной', 'Комбинезоны и боди',\n",
              "        'Chevrolet', '1', '2', 'Обогреватели', 'Hyundai', 'Toyota',\n",
              "        'Верхняя одежда', 'Брюки', 'Ford', 'Топы и футболки', 'Гараж',\n",
              "        'Дом', 'Дача', 'Крупная бытовая техника', 'ГАЗ', 'ВАЗ (LADA)',\n",
              "        'На длительный срок', 'Чопперы', 'Сельхозназначения (СНТ, ДНП)',\n",
              "        'Холодильники и морозильные камеры', 'Рубашки и блузки',\n",
              "        'Пиджаки и костюмы', 'Строительство домов, коттеджей',\n",
              "        'Коммерческие перевозки', 'Другое', 'Компьютерная техника',\n",
              "        'Офисное помещение', 'BMW', 'Шапки, варежки, шарфы',\n",
              "        'Поселений (ИЖС)', 'Рубашки', 'Остекление балконов', 'Opel',\n",
              "        'Мелкая кухонная техника', 'Audi', 'FIAT', 'Кондиционеры', '3',\n",
              "        'Машинки для стрижки', 'Запчасти', 'Suzuki', '4', 'Студия',\n",
              "        'Промназначения', 'Nissan', 'Стиральные машины',\n",
              "        'Отделочные работы', 'Плиты', 'Видеокарты',\n",
              "        'Строительство бань, саун', 'Daewoo', 'Юридические услуги',\n",
              "        'Консультирование', 'Honda', 'Торговое помещение', 'Renault',\n",
              "        'Купальники', 'Гарнитуры и наушники', 'Коттедж',\n",
              "        'Помещение свободного назначения', 'Сантехника',\n",
              "        'Полиграфия, дизайн', 'Аккумуляторы', 'Фены и приборы для укладки',\n",
              "        'Кабели и адаптеры', 'Volkswagen', 'Mazda', 'Жёсткие диски',\n",
              "        'Кросс и эндуро', 'Другая', '5', 'Mitsubishi', 'Пижамы', 'УАЗ',\n",
              "        'Аренда оборудования', 'Складское помещение', 'Нижнее бельё',\n",
              "        'Блоки питания и батареи', 'Спортивные', 'Процессоры',\n",
              "        'Машиноместо', 'Монтаж и обслуживание оборудования', 'Аренда авто',\n",
              "        'Cоздание и продвижение сайтов', 'Дорожные', 'Skoda',\n",
              "        'Оперативная память', 'Электрика', 'Мастер на все случаи', 'KIA',\n",
              "        'Уборка после ремонта', 'Блоки питания', 'Пылесосы',\n",
              "        'Mercedes-Benz', 'Генеральная уборка', 'Микроволновые печи',\n",
              "        'Мобильные устройства', 'Косметология, эпиляция',\n",
              "        'Производство, обработка', 'Переезды', 'Таунхаус',\n",
              "        'Набор и коррекция текста', 'Peugeot', 'Land Rover',\n",
              "        'Материнские платы', 'Вывоз мусора', 'Geely', 'Очистители воздуха',\n",
              "        'LIFAN', 'Корпусы', 'Картриджи', 'Бухгалтерия, финансы', 'Subaru',\n",
              "        'Vortex', 'Контроллеры', 'Пошив и ремонт одежды', 'Швейные машины',\n",
              "        'Зарядные устройства', 'Системы охлаждения', 'Jeep',\n",
              "        'Маркетинг, реклама, PR', 'Сборка и ремонт мебели',\n",
              "        'Химчистка, стирка', 'Мойка окон', 'Мелкая бытовая техника', 'ЗАЗ',\n",
              "        'CD, DVD и Blu-ray приводы', 'Фото-, аудио-, видеотехника',\n",
              "        'Lexus', 'Посуточно', 'Утюги', 'ВИС', 'Маникюр, педикюр',\n",
              "        'Гостиница', 'Грузчики', 'СПА-услуги, здоровье',\n",
              "        'Предметы школы и ВУЗа', 'Посудомоечные машины', 'Daihatsu',\n",
              "        'SsangYong', 'Настройка интернета и сетей',\n",
              "        'Производственное помещение', 'Volvo', 'Shuanghuan',\n",
              "        'Установка и настройка ПО', 'Профессиональная подготовка',\n",
              "        'Citroen', 'Услуги парикмахера', 'Квартира, апартаменты', 'Datsun',\n",
              "        'ИЖ', 'Телевизоры', 'Бумага', 'Тату, пирсинг', 'Простая уборка',\n",
              "        'Термометры и метеостанции', 'Dodge', 'Модемы и роутеры',\n",
              "        'Чистка ковров', 'ТагАЗ', 'Помещение общественного питания',\n",
              "        'Перевод', 'Chery', 'Бритвы и триммеры', 'Звуковые карты',\n",
              "        'Ремонт кухни', 'Porsche', 'Dacia', 'Foton', 'SEAT', 'Alfa Romeo',\n",
              "        'Эпиляторы', 'Изготовление ключей', 'Ремонт офиса',\n",
              "        'Иностранные языки', '6', 'Iran Khodro', 'Кастом-байки', 'Москвич',\n",
              "        'Great Wall', 'Rover', 'Стилусы', 'BAW', 'Болванки', 'Hummer',\n",
              "        'Игровые приставки', 'Макияж', 'Вождение', '9', 'Infiniti',\n",
              "        'Детское развитие, логопеды', 'Hafei', 'GAC', 'Brilliance',\n",
              "        'Дом, вилла', 'LDV', 'Земельный участок', 'Haima', 'Chrysler',\n",
              "        'Cadillac', 'BYD', 'Saturn', 'ЛуАЗ', 'Jaguar', 'Isuzu', 'FAW',\n",
              "        'Iveco', 'Рисование, дизайн, рукоделие', 'ЗИЛ', 'Smart', 'Lancia',\n",
              "        'Haval', 'Lincoln', 'Чистка мягкой мебели', '7', 'Saab', 'ZX',\n",
              "        'Huanghai', 'Genesis', '> 9', 'Dongfeng', 'Acura', 'Ravon',\n",
              "        'Pontiac', 'MINI', 'Музыка, театр', 'РАФ', 'JAC',\n",
              "        'Ювелирные услуги', 'Wartburg', 'Rolls-Royce', 'AC',\n",
              "        'Спорт, танцы', 'Changan', 'Док-станции', 'GMC',\n",
              "        'Коммерческая недвижимость', 'Talbot', 'СМЗ', 'Alpina', 'Tianye'],\n",
              "       dtype=object),\n",
              " array(['25', nan, '23', '32', '110-116 см (4-6 лет)', 'Без размера', '39',\n",
              "        '46–48 (M)', '86-92 см (1-2 года)', '62-68 см (2-6 мес)', 'Niva',\n",
              "        '98-104 см (2-4 года)', 'Вторичка', '44–46 (M)', '33', 'Accent',\n",
              "        'Corolla', '74-80 см (7-12 мес)', '46–48 (L)', '< 19', '38',\n",
              "        'Focus', 'RAV4', '42–44 (S)', 'Железобетонный',\n",
              "        'На длительный срок', '31029 Волга', '2109', '1', '22', '26', '28',\n",
              "        '40–42 (XS)', '48–50 (XL)', 'Matrix', '31', '3 серия',\n",
              "        'Новостройка', '2110', '40', '2', '50–52 (XL)', 'Astra', '27',\n",
              "        'A6', 'Brava', '37', 'Kalina', 'Priora', 'Кирпичный',\n",
              "        '146-152 см (10-12 лет)', 'Jimny', '> 36', '134-140 см (8-10 лет)',\n",
              "        '21', 'Camry', 'В черте города', 'Teana', '122-128 см (6-8 лет)',\n",
              "        'i30', '> 50 (XXL)', '44', '24', '45', '< 40', 'Nexia', '2106',\n",
              "        'Cefiro', '2108', '48–50 (L)', 'Civic', 'Металлический', 'Clio',\n",
              "        '36', '2115 Samara', '52–54 (XXL)', '30', '29', '4x4 (Нива)',\n",
              "        'ГАЗель', 'Avensis', 'Polo', '20', 'CX-5', 'Yaris', 'ГАЗель 33023',\n",
              "        'Matiz', '41', '< 35', '50-56 cм (0-2 мес)', 'Dion', 'Biante',\n",
              "        '452 Буханка', 'Golf', 'Transporter', '44–46 (S)', '43', 'Aveo',\n",
              "        'ГАЗель 2705', 'Jazz', 'Многоуровневый паркинг', '5 серия', '> 34',\n",
              "        'Zafira', '1111 Ока', 'Octavia', 'Getz', 'Laguna', '2112', 'ix35',\n",
              "        'ГАЗель 3302', 'Fiesta', 'Spectra', 'Duster', 'Carina', 'A3', '3',\n",
              "        'Passat', 'Lanos', '190 (W201)', 'Подземный паркинг', 'Almera',\n",
              "        'Lancer', 'Sprinter', 'Granta', 'GLE-класс', '31512', 'CLA-класс',\n",
              "        '308', '2114 Samara', 'Discovery', '34', 'C-класс', 'Sandero',\n",
              "        '42', '2105', 'Sorento', '21099', '> 46', 'За городом', '> 41',\n",
              "        'Corona', 'CK (Otaka)', 'Space Wagon', 'Albea', 'Solano', 'CR-V',\n",
              "        'Другая', 'Forester', '35', 'Tiida', 'Qashqai', 'Tingo', '69',\n",
              "        'Logan', 'Vista', 'Solaris', 'Cerato', '206', 'Almera Classic',\n",
              "        '2104', 'Sportage', 'Hunter', 'Lantra', 'Sierra', 'Студия', 'CX-7',\n",
              "        'X1', 'Passat CC', 'X-Trail', 'Cherokee', \"cee'd\", '100', 'Cruze',\n",
              "        'Galant', 'Sonata', 'Insignia', 'Rio', 'Master', 'Vectra',\n",
              "        'Touareg', '965 Запорожец', 'HR-V', 'Boxer', '2111', 'LX',\n",
              "        'Transit', '2113 Samara', '2347', 'Santa Fe', 'Land Cruiser Prado',\n",
              "        'Mondeo', 'Largus', '6', 'RX', '2101', 'Patriot', 'Celsior',\n",
              "        'Pathfinder', 'Corsa', '3110 Волга', '405', '2107', 'Fabia',\n",
              "        'Jetta', 'Omega', 'Outlander', 'Vesta', 'Mira', '1102 Таврия',\n",
              "        'Sephia', 'Caddy', 'Emgrand EC7', 'Actyon', 'X5', '> 38',\n",
              "        '1 серия', 'SX4', 'Pajero Sport', 'RVR', 'Atrai', 'Tino',\n",
              "        '> 54 (XXXL)', 'Stream', 'Smily (320)', '207', 'Q3', '42–44 (XS)',\n",
              "        'Tucson', 'Vento', 'C-MAX', 'Protege', 'Navara', 'Land Cruiser',\n",
              "        'XC90', 'Elantra', '626', 'X60', 'Sceo', 'Tiguan', 'Crosstour',\n",
              "        'ГАЗель 3221', 'Hilux', 'Range Rover Sport', 'Terrano', 'Celica',\n",
              "        'AD', '24 Волга', 'C4', 'X3', 'Cebrium (720)', 'Pulsar', 'Q7',\n",
              "        'E-класс', 'Абхазия', '3303', 'mi-DO', '31514', 'Pickup', 'Crown',\n",
              "        '2126', 'Scenic', 'Chance', '740', 'Cube', 'Lacetti', 'Sunny',\n",
              "        '31105 Волга', 'Ka', 'Range Rover', 'ГАЗель Next', 'Kuga', 'Eunos',\n",
              "        'GLK-класс', 'Mark II', 'Freelander', '2717', 'on-DO', 'S60',\n",
              "        'Palio', 'S-класс AMG', 'Соболь 2752', '3909', 'BT-50',\n",
              "        'Highlander', '42-44 (XS)', 'Touran', 'Pajero', 'CR-X', 'Fluence',\n",
              "        '31519', 'Primera', 'Allion', '5', 'S-класс', 'Captiva', 'Caravan',\n",
              "        'ASX', 'Airtrek', 'MK Cross', 'M-класс AMG', '4', 'Соболь',\n",
              "        'Sandero Stepway', 'MasterAce', 'Focus RS', 'MK', 'Vortex Tingo',\n",
              "        'Carisma', 'Открытая стоянка', 'A4', '3151', 'Partner', 'Impreza',\n",
              "        'Auris', '2345', '323', 'Grand Vitara', 'March', 'Epica',\n",
              "        'Orlando', 'Vitz', 'Istana', 'RS Q3', 'Efini', 'Vanette', 'A5',\n",
              "        'Tourneo Connect', 'Colt', 'Cresta', 'Genesis', 'Fora (A21)',\n",
              "        'Caldina', '4 серия', 'Посуточно', 'Megane', 'Note', 'Cronos',\n",
              "        'Crafter', 'Blazer', 'Saber', 'Soul', 'Bongo', 'RX-8', 'Berlingo',\n",
              "        'Kyron', 'Amarok', 'Tracker', 'Murano', '21 Волга', 'Roomster',\n",
              "        'Windom', 'Magnum', 'Hiace', 'Patrol', 'Grandis', 'Rapid',\n",
              "        'Vivaro', 'Cayenne', 'М-20 Победа', 'View CS2', 'Ibiza', '159',\n",
              "        'Magentis', 'Prairie', 'Punto', '7 серия', 'Accord', 'Safrane',\n",
              "        'GLC-класс AMG', '80', 'Venza', 'Grand Cherokee', 'Grand Scenic',\n",
              "        'Demio', 'CLS-класс', 'Sweet (QQ)', 'Stepwgn', 'Starex', 'Shuma',\n",
              "        'Antara', 'Samand', 'IndiS (S18D)', 'Liana', 'Multivan', 'NP300',\n",
              "        'IS', '3008', 'Astra GTC', 'Swift', 'Echo', 'Picanto', 'GX',\n",
              "        'Porter', 'W124', 'Scorpio', 'Legacy', '2102', '412', 'Prius',\n",
              "        'Galaxy', 'Hover', 'Croma', '408', 'Q5', '3102 Волга', 'A8', '200',\n",
              "        'Yeti', 'Rexton', 'Symbol', 'Cordoba', 'Sentia', 'Caravelle',\n",
              "        'Caliber', 'M6', '469', 'Inspire', 'Wingroad', 'C3', 'Escort',\n",
              "        'Fusion', 'Montero', '307', 'M-класс', 'Amulet (A15)', 'Kadett',\n",
              "        'Airwave', 'X6', 'Vito', 'Gloria', 'Spark', 'NX', 'Tiggo (T11)',\n",
              "        'Sens', 'Rezzo', 'Fenix', 'Expert', 'XC60', 'Estima', 'i40',\n",
              "        'Musso', 'A7', 'H2', 'Ram', 'Xsara Picasso', 'Superb',\n",
              "        'Volga Siber', 'Raum', 'RS7', 'Bassara', 'Mokka', 'Святогор',\n",
              "        'Ist', 'Nadia', 'Tribute', 'Соболь 2217', 'Outback', 'Explorer',\n",
              "        'GL-класс', 'Verso', 'Intrepid', 'Very', 'Elgrand',\n",
              "        'Range Rover Evoque', '2140', 'Ipsum', '8', 'Juke', 'G-класс',\n",
              "        'Marea', 'L200', 'Stilo', '240', 'Wrangler', 'Tipo', 'Liberty',\n",
              "        'Avenir', 'Rekord', 'Leganza', '1105 Дана', 'Ducato', 'Tercel',\n",
              "        'G25', 'Montero Sport', 'C190', 'GLS-класс', 'Gentra', 'Golf Plus',\n",
              "        'Frontera', '6 серия', 'Toledo', 'Brio', 'X50', 'S40', 'Camaro',\n",
              "        '1103 Славута', 'Sentra', 'Joice', 'S-MAX', 'Actyon Sports',\n",
              "        'WAY M1', 'H3', '968 Запорожец', '4Runner', 'Mirage', 'R-класс',\n",
              "        'H230', 'M11 (A3)', 'Fit', '146', 'Украина', 'Passo', 'W123',\n",
              "        'A-класс', 'H-1 (Grand Starex)', 'Charade', 'Bluebird', 'Panda',\n",
              "        'MPV', 'Карго', 'Defender', 'C5', 'Maxus', 'SLK-класс',\n",
              "        'GLA-класс', 'Town Ace', 'Cobalt', 'Capella', 'CL-класс',\n",
              "        'Kimo (A1)', 'A4 Allroad Quattro', 'Sharan', 'Crossfire', 'FX37',\n",
              "        'Tigra', 'Chaser', 'Logo', 'CLA-класс AMG', 'XC70', '3153',\n",
              "        'Breez (520)', 'Mark X', 'Escalade', 'X6 M', '2141', 'Datsun',\n",
              "        'Probox', 'Noah', 'Octavia Scout', 'Espero', '2329', 'XRAY', '850',\n",
              "        'Serena', 'i20', 'Domani', 'Venga', '2103', 'F3', 'Escape',\n",
              "        'Meriva', 'Equus', 'Familia', 'Wagon R', '9', 'Tiggo 5', 'Q50',\n",
              "        'Estina', 'V90 Cross Country', 'New Beetle', 'Avella', 'Viano',\n",
              "        'M35', 'A-класс AMG', 'Splash', 'LS', 'Wingle', 'Tiggo 3',\n",
              "        'Terracan', 'Laurel', 'Pajero Mini', 'FC (Vision)',\n",
              "        'Cayenne Turbo', 'Succeed', 'Bonus (A13)', 'Tourneo Custom', '969',\n",
              "        'Leon', '407', 'Porte', 'Verna', '107', 'C-Crosser', '406', 'Vios',\n",
              "        'X-type', '2123', 'Kluger', '5 серия GT', 'Latitude',\n",
              "        '966 Запорожец', 'Mistral', 'Caprice', 'Trafic', 'Impala',\n",
              "        'Maxima', 'Micra', 'Rodeo', 'Ractis', 'Orthia', 'CTS', 'FX35',\n",
              "        'Jumpy', 'Platz', 'Besturn B50', 'Stratus', 'Integra',\n",
              "        'A6 Allroad Quattro', 'Isis', 'S80', 'X5 M', 'B-класс', 'Daily',\n",
              "        'CLK-класс', 'Torneo', 'Panamera', 'C2', 'Funcargo', 'Sambar',\n",
              "        '300C', 'Optima', 'Qashqai+2', '208', 'Doblo', 'XV', 'WiLL',\n",
              "        'Scudo', 'GLC-класс', 'Roadster', 'Испания', 'Kappa', 'Eclipse',\n",
              "        'Element', 'Vitara', '2715', 'Lupo', 'ES', 'Presage', 'C1', 'Safe',\n",
              "        'G35', 'H6', 'E-класс AMG', '3 MPS', 'Maverick', '607', 'V5',\n",
              "        'Gaia', '401', 'Tribeca', 'Veloster', 'Cultus Wagon', 'Skyline',\n",
              "        'Linea', '75', 'Town Car', '2206', 'Corsica', 'Golf GTI',\n",
              "        'EcoSport', 'Presea', 'Sebring', 'Largo', 'Sprinter Carib',\n",
              "        'S-type', 'Kaptur', 'Carens', 'Tundra', 'Aerio', 'Felicia',\n",
              "        'Octavia RS', 'Capa', 'TT', 'Premio', 'Vario', '4105', '605',\n",
              "        'Mustang', 'Wish', '9-5', 'Ranger', 'Orion', 'Move', 'Pointer',\n",
              "        'Santana', 'Admiral', 'Space Star', 'Expedition', '3741', 'Kangoo',\n",
              "        '2335', '19', 'Opirus', 'Pyzar', 'Турция', 'Starlet', 'G90', '960',\n",
              "        'Axela', 'PT Cruiser', 'Lite Ace', 'Phaeton', 'Jumper', '9000',\n",
              "        'Panamera 4', 'Vida', 'Creta', 'S6', 'Tahoe', 'CLS-класс AMG',\n",
              "        'Крытая стоянка', 'Sigma', 'Premacy', 'H30 Cross', 'Viva',\n",
              "        'Nubira', 'Bravo', 'Bora', 'M37', 'Sprinter Classic', 'Galloper',\n",
              "        'Ascona', 'C3 Picasso', 'TrailBlazer', 'Vita', 'CrossEastar (B14)',\n",
              "        'Diamante', 'Clarus', 'RDX', 'Другая страна', 'Grandeur', 'M3',\n",
              "        'RCZ', 'Lancer Evolution', '306', 'Opa', 'Tiburon', 'Hijet',\n",
              "        'Emgrand 7', 'C-Elysee', 'Delica', 'Korando', 'Scirocco', 'MDX',\n",
              "        'Cami', 'Princip', 'Cayenne S', 'Pilot', 'Deer', 'R2', 'Vibe',\n",
              "        'Insight', 'S90', 'Pajero Pinin', '110', 'GC6', 'Cooper', 'Tager',\n",
              "        'Vortex Corda', 'Legend', 'Emgrand X7', 'Every', 'Италия', '4007',\n",
              "        'C4 Aircross', 'Combo', 'Tico', 'YRV', 'Taurus', 'Rafaga',\n",
              "        'Cayenne Turbo S', 'QX70', 'Express', 'Odyssey', '2349', 'Fox',\n",
              "        'C4 Picasso', 'Симбир', '2203', 'Reno', 'Harrier', 'Macan Turbo',\n",
              "        'S5', 'CL', 'bB', 'Koleos', 'iQ', 'Granada', 'Discovery Sportt',\n",
              "        'C-класс AMG', 'Verisa', '460', 'Cayman', '9-3', 'Arrizo 7', 'C70',\n",
              "        'Retona', 'Grand Caravan', '940', 'EX35', '7', 'Coupe', 'SRX',\n",
              "        'Sequoia', 'Korando Sports', 'CLK-класс AMG', '4008', 'Fortuner',\n",
              "        'VUE', 'Grand AM', 'Fortwo', '353', 'Cooper S', 'V50', 'Болгария',\n",
              "        'QX80', 'Millenia', 'Ghost', '156', 'GS', '403', 'Sauvana',\n",
              "        'Cavalier', 'Bonus 3 (E3)', 'Ace', 'Escudo', 'Германия',\n",
              "        'Carnival', 'Regius', 'Vega', '2136', '440', 'Atenza', 'Ypsilon',\n",
              "        'Ascot', '508', 'Chariot', 'Brevis', 'Legnum', '2346',\n",
              "        'Азербайджан', 'Vaneo', 'Vortex Estina', 'XK', 'Saratoga',\n",
              "        \"cee'd GT\", 'Stealth', 'ATS', 'V40 Cross Country', 'GTO', 'Sailor',\n",
              "        '90', 'Tempra', '3000 GT', 'Aviator', 'C10', 'C30', 'Altima',\n",
              "        'XL7', 'H-100', 'Ignis', 'Aristo', 'Freed', 'Probe', '600', 'QX60',\n",
              "        'A1', '2125', 'CL-класс AMG', 'C8', 'SQ5', 'Previa', 'Allex',\n",
              "        'Neon', 'GLE-класс AMG', 'Cynos', 'V70', 'Эстония', 'Voxy', 'Life',\n",
              "        'Cedric', 'Kei', 'Avante', 'Fuga', 'Leone', 'Mobilio', '760',\n",
              "        'Fabia Scout', 'XF', 'Compass', 'Flyer', 'Quest', 'Duet', 'Aspire',\n",
              "        'FX45', 'Navigator', 'Белоруссия', 'Avancier', 'Voyager', 'Lumina',\n",
              "        'Baleno', 'XJ', '402', 'CX-9', 'Tagora', 'Winstorm', 'Verossa',\n",
              "        'Puma', 'Dedra', 'Соболь 2310', 'Fuego', 'Eterna', 'Lavita',\n",
              "        'Alphard', 'M25', 'R Nessa', 'EK Wagon', 'G-класс AMG', 'Metro',\n",
              "        'Focus ST', 'Libero', '300M', 'MX-6', 'Trooper', 'Damas', 'S3',\n",
              "        '3160', 'Clio RS', 'Cayenne GTS', 'Avenger', 'R8', 'С-3Д',\n",
              "        'Ridgeline', 'Corda', 'JX', 'Таиланд', 'Gratour', 'Storia',\n",
              "        'Concorde', 'Xedos 6', 'Xedos 9', 'B5', 'Laser', 'QQ6 (S21)',\n",
              "        'Windstar', 'Trans Sport', 'Terios', 'Altezza', 'V8',\n",
              "        'Cooper S Clubman', 'Agila', 'Envoy', 'Rodius', 'ix55', '147',\n",
              "        'Tiggo 7', 'MR-S', 'MAX', 'EX25', 'X4', 'Гоа', 'Tunland',\n",
              "        'Festiva'], dtype=object))"
            ]
          },
          "metadata": {
            "tags": []
          },
          "execution_count": 16
        }
      ]
    },
    {
      "metadata": {
        "id": "Xlj1A0M3zNun",
        "colab_type": "code",
        "colab": {
          "base_uri": "https://localhost:8080/",
          "height": 330
        },
        "outputId": "afc1ec67-2561-4fea-c4ef-0118549bf74b"
      },
      "cell_type": "code",
      "source": [
        "# user_id\n",
        "dfs['train'].groupby('user_id').size().describe()\n",
        "\n",
        "import matplotlib.pyplot as plt\n",
        "from matplotlib_venn import venn2\n",
        "\n",
        "venn2([set(dfs['train']['user_id']), set(dfs['test']['user_id'])])\n",
        "plt.show()"
      ],
      "execution_count": 17,
      "outputs": [
        {
          "output_type": "display_data",
          "data": {
            "image/png": "[encoded data removed]",
            "text/plain": [
              "<matplotlib.figure.Figure at 0x7f77894e6630>"
            ]
          },
          "metadata": {
            "tags": []
          }
        }
      ]
    },
    {
      "metadata": {
        "id": "FrrJXY8Uz97v",
        "colab_type": "code",
        "colab": {
          "base_uri": "https://localhost:8080/",
          "height": 274
        },
        "outputId": "17c1f82d-3609-48a5-9cad-423d02af66b2"
      },
      "cell_type": "code",
      "source": [
        "# item_id\n",
        "venn2([set(dfs['train']['item_id']), set(dfs['test']['item_id'])])\n",
        "plt.show()"
      ],
      "execution_count": 18,
      "outputs": [
        {
          "output_type": "display_data",
          "data": {
            "image/png": "[encoded data removed]",
            "text/plain": [
              "<matplotlib.figure.Figure at 0x7f778933e358>"
            ]
          },
          "metadata": {
            "tags": []
          }
        }
      ]
    },
    {
      "metadata": {
        "id": "4y-BOIKmTMXX",
        "colab_type": "code",
        "colab": {
          "base_uri": "https://localhost:8080/",
          "height": 378
        },
        "outputId": "9615c27a-64f9-4c9a-c095-32dcf3d8cf0d"
      },
      "cell_type": "code",
      "source": [
        "# item_seq_number\n",
        "dfs['train'][['item_seq_number', 'deal_probability']].groupby('item_seq_number').mean().reset_index().plot.scatter(x='item_seq_number', y='deal_probability')\n",
        "# look's like long tail category encoding would capture"
      ],
      "execution_count": 11,
      "outputs": [
        {
          "output_type": "execute_result",
          "data": {
            "text/plain": [
              "<matplotlib.axes._subplots.AxesSubplot at 0x7f03c61a8d30>"
            ]
          },
          "metadata": {
            "tags": []
          },
          "execution_count": 11
        },
        {
          "output_type": "display_data",
          "data": {
            "image/png": "[encoded data removed]",
            "text/plain": [
              "<matplotlib.figure.Figure at 0x7f03c61a8438>"
            ]
          },
          "metadata": {
            "tags": []
          }
        }
      ]
    },
    {
      "metadata": {
        "id": "sChVJ4gXxN58",
        "colab_type": "code",
        "colab": {
          "base_uri": "https://localhost:8080/",
          "height": 1071
        },
        "outputId": "34424494-7d38-4727-f295-2a669210c340"
      },
      "cell_type": "code",
      "source": [
        "# just convert to week day and month and day category\n",
        "pd.to_datetime(dfs['test']['activation_date']).dt.weekday"
      ],
      "execution_count": 32,
      "outputs": [
        {
          "output_type": "execute_result",
          "data": {
            "text/plain": [
              "0         1\n",
              "1         6\n",
              "2         0\n",
              "3         0\n",
              "4         5\n",
              "5         2\n",
              "6         0\n",
              "7         1\n",
              "8         1\n",
              "9         2\n",
              "10        3\n",
              "11        3\n",
              "12        0\n",
              "13        6\n",
              "14        1\n",
              "15        6\n",
              "16        4\n",
              "17        3\n",
              "18        1\n",
              "19        4\n",
              "20        3\n",
              "21        4\n",
              "22        3\n",
              "23        3\n",
              "24        6\n",
              "25        0\n",
              "26        4\n",
              "27        4\n",
              "28        1\n",
              "29        3\n",
              "         ..\n",
              "508408    0\n",
              "508409    2\n",
              "508410    0\n",
              "508411    0\n",
              "508412    6\n",
              "508413    6\n",
              "508414    4\n",
              "508415    5\n",
              "508416    0\n",
              "508417    4\n",
              "508418    1\n",
              "508419    1\n",
              "508420    5\n",
              "508421    3\n",
              "508422    0\n",
              "508423    4\n",
              "508424    4\n",
              "508425    0\n",
              "508426    4\n",
              "508427    2\n",
              "508428    2\n",
              "508429    4\n",
              "508430    1\n",
              "508431    5\n",
              "508432    2\n",
              "508433    1\n",
              "508434    2\n",
              "508435    4\n",
              "508436    3\n",
              "508437    1\n",
              "Name: activation_date, Length: 508438, dtype: int64"
            ]
          },
          "metadata": {
            "tags": []
          },
          "execution_count": 32
        }
      ]
    },
    {
      "metadata": {
        "id": "yIigTtG71VBH",
        "colab_type": "code",
        "colab": {}
      },
      "cell_type": "code",
      "source": [
        ""
      ],
      "execution_count": 0,
      "outputs": []
    }
  ]
}